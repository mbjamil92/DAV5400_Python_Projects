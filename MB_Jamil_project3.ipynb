{
 "cells": [
  {
   "cell_type": "markdown",
   "metadata": {},
   "source": [
    "# Project 3 : Analyzing Chess Tournament Results \n",
    "## Project members:\n",
    "- Shichao Zhou\n",
    "- Muhammad Bilal Jamil"
   ]
  },
  {
   "cell_type": "markdown",
   "metadata": {},
   "source": [
    "For this Project, we’re given a text file (“tournamentinfo.txt”) with chess tournament results where the information has \n",
    "some structure. Our job is to create a Jupyter Notebook that generates a .CSV file with the following information for \n",
    "each of the chess players:\n",
    "- Player’s Name\n",
    "- Player’s State \n",
    "- Total Number of Points\n",
    "- Player’s Pre-Rating\n",
    "- Average Pre Tournament Chess Rating of Opponents\n",
    "\n",
    "##### For the first player shown in the file excerpt below, that information would be: Gary Hua, ON, 6.0, 1794, 1605"
   ]
  },
  {
   "cell_type": "code",
   "execution_count": 85,
   "metadata": {},
   "outputs": [
    {
     "data": {
      "text/plain": [
       "list"
      ]
     },
     "execution_count": 85,
     "metadata": {},
     "output_type": "execute_result"
    }
   ],
   "source": [
    "# import \n",
    "import urllib\n",
    "import pandas as pd\n",
    "import re\n",
    "url = \"https://raw.githubusercontent.com/sczhou0705/DAV-5400/main/tournamentinfo.txt\"\n",
    "resource = urllib.request.urlopen(url).readlines()\n",
    "# check resource type\n",
    "type(resource)"
   ]
  },
  {
   "cell_type": "code",
   "execution_count": 86,
   "metadata": {},
   "outputs": [
    {
     "data": {
      "text/plain": [
       "['-----------------------------------------------------------------------------------------',\n",
       " 'Pair | Player Name                     |Total|Round|Round|Round|Round|Round|Round|Round|',\n",
       " 'Num  | USCF ID / Rtg (Pre->Post)       | Pts |  1  |  2  |  3  |  4  |  5  |  6  |  7  |',\n",
       " '-----------------------------------------------------------------------------------------',\n",
       " '1 | GARY HUA                        |6.0  |W  39|W  21|W  18|W  14|W   7|D  12|D   4|',\n",
       " 'ON | 15445895 / R: 1794   ->1817     |N:2  |W    |B    |W    |B    |W    |B    |W    |',\n",
       " '-----------------------------------------------------------------------------------------',\n",
       " '2 | DAKSHESH DARURI                 |6.0  |W  63|W  58|L   4|W  17|W  16|W  20|W   7|',\n",
       " 'MI | 14598900 / R: 1553   ->1663     |N:2  |B    |W    |B    |W    |B    |W    |B    |',\n",
       " '-----------------------------------------------------------------------------------------',\n",
       " '3 | ADITYA BAJAJ                    |6.0  |L   8|W  61|W  25|W  21|W  11|W  13|W  12|',\n",
       " 'MI | 14959604 / R: 1384   ->1640     |N:2  |W    |B    |W    |B    |W    |B    |W    |',\n",
       " '-----------------------------------------------------------------------------------------',\n",
       " '4 | PATRICK H SCHILLING             |5.5  |W  23|D  28|W   2|W  26|D   5|W  19|D   1|',\n",
       " 'MI | 12616049 / R: 1716   ->1744     |N:2  |W    |B    |W    |B    |W    |B    |B    |',\n",
       " '-----------------------------------------------------------------------------------------',\n",
       " '5 | HANSHI ZUO                      |5.5  |W  45|W  37|D  12|D  13|D   4|W  14|W  17|',\n",
       " 'MI | 14601533 / R: 1655   ->1690     |N:2  |B    |W    |B    |W    |B    |W    |B    |',\n",
       " '-----------------------------------------------------------------------------------------',\n",
       " '6 | HANSEN SONG                     |5.0  |W  34|D  29|L  11|W  35|D  10|W  27|W  21|',\n",
       " 'OH | 15055204 / R: 1686   ->1687     |N:3  |W    |B    |W    |B    |B    |W    |B    |',\n",
       " '-----------------------------------------------------------------------------------------',\n",
       " '7 | GARY DEE SWATHELL               |5.0  |W  57|W  46|W  13|W  11|L   1|W   9|L   2|',\n",
       " 'MI | 11146376 / R: 1649   ->1673     |N:3  |W    |B    |W    |B    |B    |W    |W    |',\n",
       " '-----------------------------------------------------------------------------------------',\n",
       " '8 | EZEKIEL HOUGHTON                |5.0  |W   3|W  32|L  14|L   9|W  47|W  28|W  19|',\n",
       " 'MI | 15142253 / R: 1641P17->1657P24  |N:3  |B    |W    |B    |W    |B    |W    |W    |',\n",
       " '-----------------------------------------------------------------------------------------',\n",
       " '9 | STEFANO LEE                     |5.0  |W  25|L  18|W  59|W   8|W  26|L   7|W  20|',\n",
       " 'ON | 14954524 / R: 1411   ->1564     |N:2  |W    |B    |W    |B    |W    |B    |B    |',\n",
       " '-----------------------------------------------------------------------------------------',\n",
       " '10 | ANVIT RAO                       |5.0  |D  16|L  19|W  55|W  31|D   6|W  25|W  18|',\n",
       " 'MI | 14150362 / R: 1365   ->1544     |N:3  |W    |W    |B    |B    |W    |B    |W    |',\n",
       " '-----------------------------------------------------------------------------------------',\n",
       " '11 | CAMERON WILLIAM MC LEMAN        |4.5  |D  38|W  56|W   6|L   7|L   3|W  34|W  26|',\n",
       " 'MI | 12581589 / R: 1712   ->1696     |N:3  |B    |W    |B    |W    |B    |W    |B    |',\n",
       " '-----------------------------------------------------------------------------------------',\n",
       " '12 | KENNETH J TACK                  |4.5  |W  42|W  33|D   5|W  38|H    |D   1|L   3|',\n",
       " 'MI | 12681257 / R: 1663   ->1670     |N:3  |W    |B    |W    |B    |     |W    |B    |',\n",
       " '-----------------------------------------------------------------------------------------',\n",
       " '13 | TORRANCE HENRY JR               |4.5  |W  36|W  27|L   7|D   5|W  33|L   3|W  32|',\n",
       " 'MI | 15082995 / R: 1666   ->1662     |N:3  |B    |W    |B    |B    |W    |W    |B    |',\n",
       " '-----------------------------------------------------------------------------------------',\n",
       " '14 | BRADLEY SHAW                    |4.5  |W  54|W  44|W   8|L   1|D  27|L   5|W  31|',\n",
       " 'MI | 10131499 / R: 1610   ->1618     |N:3  |W    |B    |W    |W    |B    |B    |W    |',\n",
       " '-----------------------------------------------------------------------------------------',\n",
       " '15 | ZACHARY JAMES HOUGHTON          |4.5  |D  19|L  16|W  30|L  22|W  54|W  33|W  38|',\n",
       " 'MI | 15619130 / R: 1220P13->1416P20  |N:3  |B    |B    |W    |W    |B    |B    |W    |',\n",
       " '-----------------------------------------------------------------------------------------',\n",
       " '16 | MIKE NIKITIN                    |4.0  |D  10|W  15|H    |W  39|L   2|W  36|U    |',\n",
       " 'MI | 10295068 / R: 1604   ->1613     |N:3  |B    |W    |     |B    |W    |B    |     |',\n",
       " '-----------------------------------------------------------------------------------------',\n",
       " '17 | RONALD GRZEGORCZYK              |4.0  |W  48|W  41|L  26|L   2|W  23|W  22|L   5|',\n",
       " 'MI | 10297702 / R: 1629   ->1610     |N:3  |W    |B    |W    |B    |W    |B    |W    |',\n",
       " '-----------------------------------------------------------------------------------------',\n",
       " '18 | DAVID SUNDEEN                   |4.0  |W  47|W   9|L   1|W  32|L  19|W  38|L  10|',\n",
       " 'MI | 11342094 / R: 1600   ->1600     |N:3  |B    |W    |B    |W    |B    |W    |B    |',\n",
       " '-----------------------------------------------------------------------------------------',\n",
       " '19 | DIPANKAR ROY                    |4.0  |D  15|W  10|W  52|D  28|W  18|L   4|L   8|',\n",
       " 'MI | 14862333 / R: 1564   ->1570     |N:3  |W    |B    |W    |B    |W    |W    |B    |',\n",
       " '-----------------------------------------------------------------------------------------',\n",
       " '20 | JASON ZHENG                     |4.0  |L  40|W  49|W  23|W  41|W  28|L   2|L   9|',\n",
       " 'MI | 14529060 / R: 1595   ->1569     |N:4  |W    |B    |W    |B    |W    |B    |W    |',\n",
       " '-----------------------------------------------------------------------------------------',\n",
       " '21 | DINH DANG BUI                   |4.0  |W  43|L   1|W  47|L   3|W  40|W  39|L   6|',\n",
       " 'ON | 15495066 / R: 1563P22->1562     |N:3  |B    |W    |B    |W    |W    |B    |W    |',\n",
       " '-----------------------------------------------------------------------------------------',\n",
       " '22 | EUGENE L MCCLURE                |4.0  |W  64|D  52|L  28|W  15|H    |L  17|W  40|',\n",
       " 'MI | 12405534 / R: 1555   ->1529     |N:4  |W    |B    |W    |B    |     |W    |B    |',\n",
       " '-----------------------------------------------------------------------------------------',\n",
       " '23 | ALAN BUI                        |4.0  |L   4|W  43|L  20|W  58|L  17|W  37|W  46|',\n",
       " 'ON | 15030142 / R: 1363   ->1371     |     |B    |W    |B    |W    |B    |W    |B    |',\n",
       " '-----------------------------------------------------------------------------------------',\n",
       " '24 | MICHAEL R ALDRICH               |4.0  |L  28|L  47|W  43|L  25|W  60|W  44|W  39|',\n",
       " 'MI | 13469010 / R: 1229   ->1300     |N:4  |B    |W    |B    |B    |W    |W    |B    |',\n",
       " '-----------------------------------------------------------------------------------------',\n",
       " '25 | LOREN SCHWIEBERT                |3.5  |L   9|W  53|L   3|W  24|D  34|L  10|W  47|',\n",
       " 'MI | 12486656 / R: 1745   ->1681     |N:4  |B    |W    |B    |W    |B    |W    |B    |',\n",
       " '-----------------------------------------------------------------------------------------',\n",
       " '26 | MAX ZHU                         |3.5  |W  49|W  40|W  17|L   4|L   9|D  32|L  11|',\n",
       " 'ON | 15131520 / R: 1579   ->1564     |N:4  |B    |W    |B    |W    |B    |W    |W    |',\n",
       " '-----------------------------------------------------------------------------------------',\n",
       " '27 | GAURAV GIDWANI                  |3.5  |W  51|L  13|W  46|W  37|D  14|L   6|U    |',\n",
       " 'MI | 14476567 / R: 1552   ->1539     |N:4  |W    |B    |W    |B    |W    |B    |     |',\n",
       " '-----------------------------------------------------------------------------------------',\n",
       " '28 | SOFIA ADINA STANESCU-BELLU      |3.5  |W  24|D   4|W  22|D  19|L  20|L   8|D  36|',\n",
       " 'MI | 14882954 / R: 1507   ->1513     |N:3  |W    |W    |B    |W    |B    |B    |W    |',\n",
       " '-----------------------------------------------------------------------------------------',\n",
       " '29 | CHIEDOZIE OKORIE                |3.5  |W  50|D   6|L  38|L  34|W  52|W  48|U    |',\n",
       " 'MI | 15323285 / R: 1602P6 ->1508P12  |N:4  |B    |W    |B    |W    |W    |B    |     |',\n",
       " '-----------------------------------------------------------------------------------------',\n",
       " '30 | GEORGE AVERY JONES              |3.5  |L  52|D  64|L  15|W  55|L  31|W  61|W  50|',\n",
       " 'ON | 12577178 / R: 1522   ->1444     |     |W    |B    |B    |W    |W    |B    |B    |',\n",
       " '-----------------------------------------------------------------------------------------',\n",
       " '31 | RISHI SHETTY                    |3.5  |L  58|D  55|W  64|L  10|W  30|W  50|L  14|',\n",
       " 'MI | 15131618 / R: 1494   ->1444     |     |B    |W    |B    |W    |B    |W    |B    |',\n",
       " '-----------------------------------------------------------------------------------------',\n",
       " '32 | JOSHUA PHILIP MATHEWS           |3.5  |W  61|L   8|W  44|L  18|W  51|D  26|L  13|',\n",
       " 'ON | 14073750 / R: 1441   ->1433     |N:4  |W    |B    |W    |B    |W    |B    |W    |',\n",
       " '-----------------------------------------------------------------------------------------',\n",
       " '33 | JADE GE                         |3.5  |W  60|L  12|W  50|D  36|L  13|L  15|W  51|',\n",
       " 'MI | 14691842 / R: 1449   ->1421     |     |B    |W    |B    |W    |B    |W    |B    |',\n",
       " '-----------------------------------------------------------------------------------------',\n",
       " '34 | MICHAEL JEFFERY THOMAS          |3.5  |L   6|W  60|L  37|W  29|D  25|L  11|W  52|',\n",
       " 'MI | 15051807 / R: 1399   ->1400     |     |B    |W    |B    |B    |W    |B    |W    |',\n",
       " '-----------------------------------------------------------------------------------------',\n",
       " '35 | JOSHUA DAVID LEE                |3.5  |L  46|L  38|W  56|L   6|W  57|D  52|W  48|',\n",
       " 'MI | 14601397 / R: 1438   ->1392     |     |W    |W    |B    |W    |B    |B    |W    |',\n",
       " '-----------------------------------------------------------------------------------------',\n",
       " '36 | SIDDHARTH JHA                   |3.5  |L  13|W  57|W  51|D  33|H    |L  16|D  28|',\n",
       " 'MI | 14773163 / R: 1355   ->1367     |N:4  |W    |B    |W    |B    |     |W    |B    |',\n",
       " '-----------------------------------------------------------------------------------------',\n",
       " '37 | AMIYATOSH PWNANANDAM            |3.5  |B    |L   5|W  34|L  27|H    |L  23|W  61|',\n",
       " 'MI | 15489571 / R:  980P12->1077P17  |     |     |B    |W    |W    |     |B    |W    |',\n",
       " '-----------------------------------------------------------------------------------------',\n",
       " '38 | BRIAN LIU                       |3.0  |D  11|W  35|W  29|L  12|H    |L  18|L  15|',\n",
       " 'MI | 15108523 / R: 1423   ->1439     |N:4  |W    |B    |W    |W    |     |B    |B    |',\n",
       " '-----------------------------------------------------------------------------------------',\n",
       " '39 | JOEL R HENDON                   |3.0  |L   1|W  54|W  40|L  16|W  44|L  21|L  24|',\n",
       " 'MI | 12923035 / R: 1436P23->1413     |N:4  |B    |W    |B    |W    |B    |W    |W    |',\n",
       " '-----------------------------------------------------------------------------------------',\n",
       " '40 | FOREST ZHANG                    |3.0  |W  20|L  26|L  39|W  59|L  21|W  56|L  22|',\n",
       " 'MI | 14892710 / R: 1348   ->1346     |     |B    |B    |W    |W    |B    |W    |W    |',\n",
       " '-----------------------------------------------------------------------------------------',\n",
       " '41 | KYLE WILLIAM MURPHY             |3.0  |W  59|L  17|W  58|L  20|X    |U    |U    |',\n",
       " 'MI | 15761443 / R: 1403P5 ->1341P9   |     |B    |W    |B    |W    |     |     |     |',\n",
       " '-----------------------------------------------------------------------------------------',\n",
       " '42 | JARED GE                        |3.0  |L  12|L  50|L  57|D  60|D  61|W  64|W  56|',\n",
       " 'MI | 14462326 / R: 1332   ->1256     |     |B    |W    |B    |B    |W    |W    |B    |',\n",
       " '-----------------------------------------------------------------------------------------',\n",
       " '43 | ROBERT GLEN VASEY               |3.0  |L  21|L  23|L  24|W  63|W  59|L  46|W  55|',\n",
       " 'MI | 14101068 / R: 1283   ->1244     |     |W    |B    |W    |W    |B    |B    |W    |',\n",
       " '-----------------------------------------------------------------------------------------',\n",
       " '44 | JUSTIN D SCHILLING              |3.0  |B    |L  14|L  32|W  53|L  39|L  24|W  59|',\n",
       " 'MI | 15323504 / R: 1199   ->1199     |     |     |W    |B    |B    |W    |B    |W    |',\n",
       " '-----------------------------------------------------------------------------------------',\n",
       " '45 | DEREK YAN                       |3.0  |L   5|L  51|D  60|L  56|W  63|D  55|W  58|',\n",
       " 'MI | 15372807 / R: 1242   ->1191     |     |W    |B    |W    |B    |W    |B    |W    |',\n",
       " '-----------------------------------------------------------------------------------------',\n",
       " '46 | JACOB ALEXANDER LAVALLEY        |3.0  |W  35|L   7|L  27|L  50|W  64|W  43|L  23|',\n",
       " 'MI | 15490981 / R:  377P3 ->1076P10  |     |B    |W    |B    |W    |B    |W    |W    |',\n",
       " '-----------------------------------------------------------------------------------------',\n",
       " '47 | ERIC WRIGHT                     |2.5  |L  18|W  24|L  21|W  61|L   8|D  51|L  25|',\n",
       " 'MI | 12533115 / R: 1362   ->1341     |     |W    |B    |W    |B    |W    |B    |W    |',\n",
       " '-----------------------------------------------------------------------------------------',\n",
       " '48 | DANIEL KHAIN                    |2.5  |L  17|W  63|H    |D  52|H    |L  29|L  35|',\n",
       " 'MI | 14369165 / R: 1382   ->1335     |     |B    |W    |     |B    |     |W    |B    |',\n",
       " '-----------------------------------------------------------------------------------------',\n",
       " '49 | MICHAEL J MARTIN                |2.5  |L  26|L  20|D  63|D  64|W  58|H    |U    |',\n",
       " 'MI | 12531685 / R: 1291P12->1259P17  |     |W    |W    |B    |W    |B    |     |     |',\n",
       " '-----------------------------------------------------------------------------------------',\n",
       " '50 | SHIVAM JHA                      |2.5  |L  29|W  42|L  33|W  46|H    |L  31|L  30|',\n",
       " 'MI | 14773178 / R: 1056   ->1111     |     |W    |B    |W    |B    |     |B    |W    |',\n",
       " '-----------------------------------------------------------------------------------------',\n",
       " '51 | TEJAS AYYAGARI                  |2.5  |L  27|W  45|L  36|W  57|L  32|D  47|L  33|',\n",
       " 'MI | 15205474 / R: 1011   ->1097     |     |B    |W    |B    |W    |B    |W    |W    |',\n",
       " '-----------------------------------------------------------------------------------------',\n",
       " '52 | ETHAN GUO                       |2.5  |W  30|D  22|L  19|D  48|L  29|D  35|L  34|',\n",
       " 'MI | 14918803 / R:  935   ->1092     |N:4  |B    |W    |B    |W    |B    |W    |B    |',\n",
       " '-----------------------------------------------------------------------------------------',\n",
       " '53 | JOSE C YBARRA                   |2.0  |H    |L  25|H    |L  44|U    |W  57|U    |',\n",
       " 'MI | 12578849 / R: 1393   ->1359     |     |     |B    |     |W    |     |W    |     |',\n",
       " '-----------------------------------------------------------------------------------------',\n",
       " '54 | LARRY HODGE                     |2.0  |L  14|L  39|L  61|B    |L  15|L  59|W  64|',\n",
       " 'MI | 12836773 / R: 1270   ->1200     |     |B    |B    |W    |     |W    |B    |W    |',\n",
       " '-----------------------------------------------------------------------------------------',\n",
       " '55 | ALEX KONG                       |2.0  |L  62|D  31|L  10|L  30|B    |D  45|L  43|',\n",
       " 'MI | 15412571 / R: 1186   ->1163     |     |W    |B    |W    |B    |     |W    |B    |',\n",
       " '-----------------------------------------------------------------------------------------',\n",
       " '56 | MARISA RICCI                    |2.0  |H    |L  11|L  35|W  45|H    |L  40|L  42|',\n",
       " 'MI | 14679887 / R: 1153   ->1140     |     |     |B    |W    |W    |     |B    |W    |',\n",
       " '-----------------------------------------------------------------------------------------',\n",
       " '57 | MICHAEL LU                      |2.0  |L   7|L  36|W  42|L  51|L  35|L  53|B    |',\n",
       " 'MI | 15113330 / R: 1092   ->1079     |     |B    |W    |W    |B    |W    |B    |     |',\n",
       " '-----------------------------------------------------------------------------------------',\n",
       " '58 | VIRAJ MOHILE                    |2.0  |W  31|L   2|L  41|L  23|L  49|B    |L  45|',\n",
       " 'MI | 14700365 / R:  917   -> 941     |     |W    |B    |W    |B    |W    |     |B    |',\n",
       " '-----------------------------------------------------------------------------------------',\n",
       " '59 | SEAN M MC CORMICK               |2.0  |L  41|B    |L   9|L  40|L  43|W  54|L  44|',\n",
       " 'MI | 12841036 / R:  853   -> 878     |     |W    |     |B    |B    |W    |W    |B    |',\n",
       " '-----------------------------------------------------------------------------------------',\n",
       " '60 | JULIA SHEN                      |1.5  |L  33|L  34|D  45|D  42|L  24|H    |U    |',\n",
       " 'MI | 14579262 / R:  967   -> 984     |     |W    |B    |B    |W    |B    |     |     |',\n",
       " '-----------------------------------------------------------------------------------------',\n",
       " '61 | JEZZEL FARKAS                   |1.5  |L  32|L   3|W  54|L  47|D  42|L  30|L  37|',\n",
       " 'ON | 15771592 / R:  955P11-> 979P18  |     |B    |W    |B    |W    |B    |W    |B    |',\n",
       " '-----------------------------------------------------------------------------------------',\n",
       " '62 | ASHWIN BALAJI                   |1.0  |W  55|U    |U    |U    |U    |U    |U    |',\n",
       " 'MI | 15219542 / R: 1530   ->1535     |     |B    |     |     |     |     |     |     |',\n",
       " '-----------------------------------------------------------------------------------------',\n",
       " '63 | THOMAS JOSEPH HOSMER            |1.0  |L   2|L  48|D  49|L  43|L  45|H    |U    |',\n",
       " 'MI | 15057092 / R: 1175   ->1125     |     |W    |B    |W    |B    |B    |     |     |',\n",
       " '-----------------------------------------------------------------------------------------',\n",
       " '64 | BEN LI                          |1.0  |L  22|D  30|L  31|D  49|L  46|L  42|L  54|',\n",
       " 'MI | 15006561 / R: 1163   ->1112     |     |B    |W    |W    |B    |W    |B    |B    |',\n",
       " '-----------------------------------------------------------------------------------------']"
      ]
     },
     "execution_count": 86,
     "metadata": {},
     "output_type": "execute_result"
    }
   ],
   "source": [
    "# delete'\\n' and 'b' in resource \n",
    "new_list = []\n",
    "for i in resource:\n",
    "    new_list.append(i.strip().decode(\"utf-8\"))\n",
    "new_list"
   ]
  },
  {
   "cell_type": "markdown",
   "metadata": {},
   "source": [
    "### Player’s Names:"
   ]
  },
  {
   "cell_type": "code",
   "execution_count": 87,
   "metadata": {},
   "outputs": [
    {
     "data": {
      "text/plain": [
       "['Player Name ',\n",
       " 'USCF ID ',\n",
       " 'GARY HUA ',\n",
       " 'DAKSHESH DARURI ',\n",
       " 'ADITYA BAJAJ ',\n",
       " 'PATRICK H SCHILLING',\n",
       " 'HANSHI ZUO ',\n",
       " 'HANSEN SONG ',\n",
       " 'GARY DEE SWATHELL',\n",
       " 'EZEKIEL HOUGHTON ',\n",
       " 'STEFANO LEE ',\n",
       " 'ANVIT RAO ',\n",
       " 'CAMERON WILLIAM MC',\n",
       " 'KENNETH J TACK',\n",
       " 'TORRANCE HENRY JR',\n",
       " 'BRADLEY SHAW ',\n",
       " 'ZACHARY JAMES HOUGHTON',\n",
       " 'MIKE NIKITIN ',\n",
       " 'RONALD GRZEGORCZYK ',\n",
       " 'DAVID SUNDEEN ',\n",
       " 'DIPANKAR ROY ',\n",
       " 'JASON ZHENG ',\n",
       " 'DINH DANG BUI',\n",
       " 'EUGENE L MCCLURE',\n",
       " 'ALAN BUI ',\n",
       " 'MICHAEL R ALDRICH',\n",
       " 'LOREN SCHWIEBERT ',\n",
       " 'MAX ZHU ',\n",
       " 'GAURAV GIDWANI ',\n",
       " 'SOFIA ADINA STANESCU',\n",
       " 'CHIEDOZIE OKORIE ',\n",
       " 'GEORGE AVERY JONES',\n",
       " 'RISHI SHETTY ',\n",
       " 'JOSHUA PHILIP MATHEWS',\n",
       " 'JADE GE ',\n",
       " 'MICHAEL JEFFERY THOMAS',\n",
       " 'JOSHUA DAVID LEE',\n",
       " 'SIDDHARTH JHA ',\n",
       " 'AMIYATOSH PWNANANDAM ',\n",
       " 'BRIAN LIU ',\n",
       " 'JOEL R HENDON',\n",
       " 'FOREST ZHANG ',\n",
       " 'KYLE WILLIAM MURPHY',\n",
       " 'JARED GE ',\n",
       " 'ROBERT GLEN VASEY',\n",
       " 'JUSTIN D SCHILLING',\n",
       " 'DEREK YAN ',\n",
       " 'JACOB ALEXANDER LAVALLEY',\n",
       " 'ERIC WRIGHT ',\n",
       " 'DANIEL KHAIN ',\n",
       " 'MICHAEL J MARTIN',\n",
       " 'SHIVAM JHA ',\n",
       " 'TEJAS AYYAGARI ',\n",
       " 'ETHAN GUO ',\n",
       " 'JOSE C YBARRA',\n",
       " 'LARRY HODGE ',\n",
       " 'ALEX KONG ',\n",
       " 'MARISA RICCI ',\n",
       " 'MICHAEL LU ',\n",
       " 'VIRAJ MOHILE ',\n",
       " 'SEAN M MC',\n",
       " 'JULIA SHEN ',\n",
       " 'JEZZEL FARKAS ',\n",
       " 'ASHWIN BALAJI ',\n",
       " 'THOMAS JOSEPH HOSMER',\n",
       " 'BEN LI ']"
      ]
     },
     "execution_count": 87,
     "metadata": {},
     "output_type": "execute_result"
    }
   ],
   "source": [
    "# create a regular expression pattern\n",
    "name = re.compile(\"[a-zA-Z]+\\s[a-zA-Z]+\\s[A-Z]*\")\n",
    "# find all values that match the pattern\n",
    "names = name.findall(str(new_list))\n",
    "names"
   ]
  },
  {
   "cell_type": "code",
   "execution_count": 88,
   "metadata": {},
   "outputs": [
    {
     "data": {
      "text/plain": [
       "64"
      ]
     },
     "execution_count": 88,
     "metadata": {},
     "output_type": "execute_result"
    }
   ],
   "source": [
    "# delete elements ' player's name' and 'USCF ID'\n",
    "del names[0:2]\n",
    "names\n",
    "# Check if the total number of players is 64, if yes, the list is correct without missing values.\n",
    "len(names)"
   ]
  },
  {
   "cell_type": "markdown",
   "metadata": {},
   "source": [
    "### Player’s States:"
   ]
  },
  {
   "cell_type": "code",
   "execution_count": 89,
   "metadata": {},
   "outputs": [
    {
     "data": {
      "text/plain": [
       "[\"'Pa\",\n",
       " \"'Nu\",\n",
       " \"'ON\",\n",
       " \"'MI\",\n",
       " \"'MI\",\n",
       " \"'MI\",\n",
       " \"'MI\",\n",
       " \"'OH\",\n",
       " \"'MI\",\n",
       " \"'MI\",\n",
       " \"'ON\",\n",
       " \"'MI\",\n",
       " \"'MI\",\n",
       " \"'MI\",\n",
       " \"'MI\",\n",
       " \"'MI\",\n",
       " \"'MI\",\n",
       " \"'MI\",\n",
       " \"'MI\",\n",
       " \"'MI\",\n",
       " \"'MI\",\n",
       " \"'MI\",\n",
       " \"'ON\",\n",
       " \"'MI\",\n",
       " \"'ON\",\n",
       " \"'MI\",\n",
       " \"'MI\",\n",
       " \"'ON\",\n",
       " \"'MI\",\n",
       " \"'MI\",\n",
       " \"'MI\",\n",
       " \"'ON\",\n",
       " \"'MI\",\n",
       " \"'ON\",\n",
       " \"'MI\",\n",
       " \"'MI\",\n",
       " \"'MI\",\n",
       " \"'MI\",\n",
       " \"'MI\",\n",
       " \"'MI\",\n",
       " \"'MI\",\n",
       " \"'MI\",\n",
       " \"'MI\",\n",
       " \"'MI\",\n",
       " \"'MI\",\n",
       " \"'MI\",\n",
       " \"'MI\",\n",
       " \"'MI\",\n",
       " \"'MI\",\n",
       " \"'MI\",\n",
       " \"'MI\",\n",
       " \"'MI\",\n",
       " \"'MI\",\n",
       " \"'MI\",\n",
       " \"'MI\",\n",
       " \"'MI\",\n",
       " \"'MI\",\n",
       " \"'MI\",\n",
       " \"'MI\",\n",
       " \"'MI\",\n",
       " \"'MI\",\n",
       " \"'MI\",\n",
       " \"'ON\",\n",
       " \"'MI\",\n",
       " \"'MI\",\n",
       " \"'MI\"]"
      ]
     },
     "execution_count": 89,
     "metadata": {},
     "output_type": "execute_result"
    }
   ],
   "source": [
    "# create a regular expression pattern\n",
    "state = re.compile(\"'[a-zA-Z]{2}\")\n",
    "# find all values that match the pattern\n",
    "states = state.findall(str(new_list))\n",
    "states"
   ]
  },
  {
   "cell_type": "code",
   "execution_count": 90,
   "metadata": {},
   "outputs": [
    {
     "data": {
      "text/plain": [
       "['Pa',\n",
       " 'Nu',\n",
       " 'ON',\n",
       " 'MI',\n",
       " 'MI',\n",
       " 'MI',\n",
       " 'MI',\n",
       " 'OH',\n",
       " 'MI',\n",
       " 'MI',\n",
       " 'ON',\n",
       " 'MI',\n",
       " 'MI',\n",
       " 'MI',\n",
       " 'MI',\n",
       " 'MI',\n",
       " 'MI',\n",
       " 'MI',\n",
       " 'MI',\n",
       " 'MI',\n",
       " 'MI',\n",
       " 'MI',\n",
       " 'ON',\n",
       " 'MI',\n",
       " 'ON',\n",
       " 'MI',\n",
       " 'MI',\n",
       " 'ON',\n",
       " 'MI',\n",
       " 'MI',\n",
       " 'MI',\n",
       " 'ON',\n",
       " 'MI',\n",
       " 'ON',\n",
       " 'MI',\n",
       " 'MI',\n",
       " 'MI',\n",
       " 'MI',\n",
       " 'MI',\n",
       " 'MI',\n",
       " 'MI',\n",
       " 'MI',\n",
       " 'MI',\n",
       " 'MI',\n",
       " 'MI',\n",
       " 'MI',\n",
       " 'MI',\n",
       " 'MI',\n",
       " 'MI',\n",
       " 'MI',\n",
       " 'MI',\n",
       " 'MI',\n",
       " 'MI',\n",
       " 'MI',\n",
       " 'MI',\n",
       " 'MI',\n",
       " 'MI',\n",
       " 'MI',\n",
       " 'MI',\n",
       " 'MI',\n",
       " 'MI',\n",
       " 'MI',\n",
       " 'ON',\n",
       " 'MI',\n",
       " 'MI',\n",
       " 'MI']"
      ]
     },
     "execution_count": 90,
     "metadata": {},
     "output_type": "execute_result"
    }
   ],
   "source": [
    "# delect' ''\n",
    "updated_states=[]\n",
    "for i in states:\n",
    "    result = re.sub('\\'','',i)\n",
    "    updated_states.append(result)\n",
    "updated_states"
   ]
  },
  {
   "cell_type": "code",
   "execution_count": 91,
   "metadata": {},
   "outputs": [
    {
     "data": {
      "text/plain": [
       "64"
      ]
     },
     "execution_count": 91,
     "metadata": {},
     "output_type": "execute_result"
    }
   ],
   "source": [
    "# delete elements 'pa' and 'nu'\n",
    "del updated_states[0:2]\n",
    "updated_states\n",
    "# Check if the total number of players is 64, if yes, the list is correct without missing values.\n",
    "len(updated_states)"
   ]
  },
  {
   "cell_type": "markdown",
   "metadata": {},
   "source": [
    "### Total Number of Points:"
   ]
  },
  {
   "cell_type": "code",
   "execution_count": 92,
   "metadata": {},
   "outputs": [
    {
     "data": {
      "text/plain": [
       "['6.0',\n",
       " '6.0',\n",
       " '6.0',\n",
       " '5.5',\n",
       " '5.5',\n",
       " '5.0',\n",
       " '5.0',\n",
       " '5.0',\n",
       " '5.0',\n",
       " '5.0',\n",
       " '4.5',\n",
       " '4.5',\n",
       " '4.5',\n",
       " '4.5',\n",
       " '4.5',\n",
       " '4.0',\n",
       " '4.0',\n",
       " '4.0',\n",
       " '4.0',\n",
       " '4.0',\n",
       " '4.0',\n",
       " '4.0',\n",
       " '4.0',\n",
       " '4.0',\n",
       " '3.5',\n",
       " '3.5',\n",
       " '3.5',\n",
       " '3.5',\n",
       " '3.5',\n",
       " '3.5',\n",
       " '3.5',\n",
       " '3.5',\n",
       " '3.5',\n",
       " '3.5',\n",
       " '3.5',\n",
       " '3.5',\n",
       " '3.5',\n",
       " '3.0',\n",
       " '3.0',\n",
       " '3.0',\n",
       " '3.0',\n",
       " '3.0',\n",
       " '3.0',\n",
       " '3.0',\n",
       " '3.0',\n",
       " '3.0',\n",
       " '2.5',\n",
       " '2.5',\n",
       " '2.5',\n",
       " '2.5',\n",
       " '2.5',\n",
       " '2.5',\n",
       " '2.0',\n",
       " '2.0',\n",
       " '2.0',\n",
       " '2.0',\n",
       " '2.0',\n",
       " '2.0',\n",
       " '2.0',\n",
       " '1.5',\n",
       " '1.5',\n",
       " '1.0',\n",
       " '1.0',\n",
       " '1.0']"
      ]
     },
     "execution_count": 92,
     "metadata": {},
     "output_type": "execute_result"
    }
   ],
   "source": [
    "# create a regular expression pattern\n",
    "number_of_points = re.compile(\"[0-9]\\.[0-9]\")\n",
    "# find all values that match the pattern\n",
    "number_of_points = number_of_points.findall(str(new_list))\n",
    "number_of_points"
   ]
  },
  {
   "cell_type": "code",
   "execution_count": 17,
   "metadata": {},
   "outputs": [
    {
     "data": {
      "text/plain": [
       "64"
      ]
     },
     "execution_count": 17,
     "metadata": {},
     "output_type": "execute_result"
    }
   ],
   "source": [
    "# Check if the total number of players is 64, if yes, the list is correct without missing values.\n",
    "len(number_of_points)"
   ]
  },
  {
   "cell_type": "markdown",
   "metadata": {},
   "source": [
    "### Player’s Pre-Ratings:"
   ]
  },
  {
   "cell_type": "code",
   "execution_count": 13,
   "metadata": {},
   "outputs": [
    {
     "data": {
      "text/plain": [
       "['R: 1794',\n",
       " 'R: 1553',\n",
       " 'R: 1384',\n",
       " 'R: 1716',\n",
       " 'R: 1655',\n",
       " 'R: 1686',\n",
       " 'R: 1649',\n",
       " 'R: 1641',\n",
       " 'R: 1411',\n",
       " 'R: 1365',\n",
       " 'R: 1712',\n",
       " 'R: 1663',\n",
       " 'R: 1666',\n",
       " 'R: 1610',\n",
       " 'R: 1220',\n",
       " 'R: 1604',\n",
       " 'R: 1629',\n",
       " 'R: 1600',\n",
       " 'R: 1564',\n",
       " 'R: 1595',\n",
       " 'R: 1563',\n",
       " 'R: 1555',\n",
       " 'R: 1363',\n",
       " 'R: 1229',\n",
       " 'R: 1745',\n",
       " 'R: 1579',\n",
       " 'R: 1552',\n",
       " 'R: 1507',\n",
       " 'R: 1602',\n",
       " 'R: 1522',\n",
       " 'R: 1494',\n",
       " 'R: 1441',\n",
       " 'R: 1449',\n",
       " 'R: 1399',\n",
       " 'R: 1438',\n",
       " 'R: 1355',\n",
       " 'R:  980',\n",
       " 'R: 1423',\n",
       " 'R: 1436',\n",
       " 'R: 1348',\n",
       " 'R: 1403',\n",
       " 'R: 1332',\n",
       " 'R: 1283',\n",
       " 'R: 1199',\n",
       " 'R: 1242',\n",
       " 'R:  377',\n",
       " 'R: 1362',\n",
       " 'R: 1382',\n",
       " 'R: 1291',\n",
       " 'R: 1056',\n",
       " 'R: 1011',\n",
       " 'R:  935',\n",
       " 'R: 1393',\n",
       " 'R: 1270',\n",
       " 'R: 1186',\n",
       " 'R: 1153',\n",
       " 'R: 1092',\n",
       " 'R:  917',\n",
       " 'R:  853',\n",
       " 'R:  967',\n",
       " 'R:  955',\n",
       " 'R: 1530',\n",
       " 'R: 1175',\n",
       " 'R: 1163']"
      ]
     },
     "execution_count": 13,
     "metadata": {},
     "output_type": "execute_result"
    }
   ],
   "source": [
    "# create a regular expression pattern\n",
    "pre_rating = re.compile(\"R:\\s+[0-9]{1,4}\")\n",
    "# find all values that match the pattern\n",
    "pre_rating = pre_rating.findall(str(new_list))\n",
    "pre_rating"
   ]
  },
  {
   "cell_type": "code",
   "execution_count": 14,
   "metadata": {},
   "outputs": [
    {
     "data": {
      "text/plain": [
       "64"
      ]
     },
     "execution_count": 14,
     "metadata": {},
     "output_type": "execute_result"
    }
   ],
   "source": [
    "# Check if the total number of players is 64, if yes, the list is correct without missing values.\n",
    "len(pre_rating)"
   ]
  },
  {
   "cell_type": "code",
   "execution_count": 107,
   "metadata": {},
   "outputs": [
    {
     "data": {
      "text/plain": [
       "[1794,\n",
       " 1553,\n",
       " 1384,\n",
       " 1716,\n",
       " 1655,\n",
       " 1686,\n",
       " 1649,\n",
       " 1641,\n",
       " 1411,\n",
       " 1365,\n",
       " 1712,\n",
       " 1663,\n",
       " 1666,\n",
       " 1610,\n",
       " 1220,\n",
       " 1604,\n",
       " 1629,\n",
       " 1600,\n",
       " 1564,\n",
       " 1595,\n",
       " 1563,\n",
       " 1555,\n",
       " 1363,\n",
       " 1229,\n",
       " 1745,\n",
       " 1579,\n",
       " 1552,\n",
       " 1507,\n",
       " 1602,\n",
       " 1522,\n",
       " 1494,\n",
       " 1441,\n",
       " 1449,\n",
       " 1399,\n",
       " 1438,\n",
       " 1355,\n",
       " 980,\n",
       " 1423,\n",
       " 1436,\n",
       " 1348,\n",
       " 1403,\n",
       " 1332,\n",
       " 1283,\n",
       " 1199,\n",
       " 1242,\n",
       " 377,\n",
       " 1362,\n",
       " 1382,\n",
       " 1291,\n",
       " 1056,\n",
       " 1011,\n",
       " 935,\n",
       " 1393,\n",
       " 1270,\n",
       " 1186,\n",
       " 1153,\n",
       " 1092,\n",
       " 917,\n",
       " 853,\n",
       " 967,\n",
       " 955,\n",
       " 1530,\n",
       " 1175,\n",
       " 1163]"
      ]
     },
     "execution_count": 107,
     "metadata": {},
     "output_type": "execute_result"
    }
   ],
   "source": [
    "# create a new pre_rating list without \"R: \"\n",
    "updated_pre_rating = []\n",
    "for i in pre_rating:\n",
    "    result = re.sub('R: ','',i)\n",
    "    updated_pre_rating.append(int(result))\n",
    "updated_pre_rating"
   ]
  },
  {
   "cell_type": "markdown",
   "metadata": {},
   "source": [
    "### Average Pre Tournament Chess Rating of Opponents:"
   ]
  },
  {
   "cell_type": "markdown",
   "metadata": {},
   "source": [
    "In order to do this, we would first need to extract the opponent ID numbers since the rounds of each player are different. We need to make sure to keep each player own the same number of extracted segments, so we will extract information for all the rounds. We will create regex for this which will give us 15 segments for every player:"
   ]
  },
  {
   "cell_type": "code",
   "execution_count": 96,
   "metadata": {},
   "outputs": [
    {
     "name": "stdout",
     "output_type": "stream",
     "text": [
      "[39, 21, 18, 14, 7, 12, 4, nan, nan, nan, nan, nan, nan, nan, nan, 63, 58, 4, 17, 16, 20, 7, nan, nan, nan, nan, nan, nan, nan, nan, 8, 61, 25, 21, 11, 13, 12, nan, nan, nan, nan, nan, nan, nan, nan, 23, 28, 2, 26, 5, 19, 1, nan, nan, nan, nan, nan, nan, nan, nan, 45, 37, 12, 13, 4, 14, 17, nan, nan, nan, nan, nan, nan, nan, nan, 34, 29, 11, 35, 10, 27, 21, nan, nan, nan, nan, nan, nan, nan, nan, 57, 46, 13, 11, 1, 9, 2, nan, nan, nan, nan, nan, nan, nan, nan, 3, 32, 14, 9, 47, 28, 19, nan, nan, nan, nan, nan, nan, nan, nan, 25, 18, 59, 8, 26, 7, 20, nan, nan, nan, nan, nan, nan, nan, nan, 16, 19, 55, 31, 6, 25, 18, nan, nan, nan, nan, nan, nan, nan, nan, 38, 56, 6, 7, 3, 34, 26, nan, nan, nan, nan, nan, nan, nan, nan, 42, 33, 5, 38, nan, 1, 3, nan, nan, nan, nan, nan, nan, nan, nan, 36, 27, 7, 5, 33, 3, 32, nan, nan, nan, nan, nan, nan, nan, nan, 54, 44, 8, 1, 27, 5, 31, nan, nan, nan, nan, nan, nan, nan, nan, 19, 16, 30, 22, 54, 33, 38, nan, nan, nan, nan, nan, nan, nan, nan, 10, 15, nan, 39, 2, 36, nan, nan, nan, nan, nan, nan, nan, nan, nan, 48, 41, 26, 2, 23, 22, 5, nan, nan, nan, nan, nan, nan, nan, nan, 47, 9, 1, 32, 19, 38, 10, nan, nan, nan, nan, nan, nan, nan, nan, 15, 10, 52, 28, 18, 4, 8, nan, nan, nan, nan, nan, nan, nan, nan, 40, 49, 23, 41, 28, 2, 9, nan, nan, nan, nan, nan, nan, nan, nan, 43, 1, 47, 3, 40, 39, 6, nan, nan, nan, nan, nan, nan, nan, nan, 64, 52, 28, 15, nan, 17, 40, nan, nan, nan, nan, nan, nan, nan, nan, 4, 43, 20, 58, 17, 37, 46, nan, nan, nan, nan, nan, nan, nan, nan, 28, 47, 43, 25, 60, 44, 39, nan, nan, nan, nan, nan, nan, nan, nan, 9, 53, 3, 24, 34, 10, 47, nan, nan, nan, nan, nan, nan, nan, nan, 49, 40, 17, 4, 9, 32, 11, nan, nan, nan, nan, nan, nan, nan, nan, 51, 13, 46, 37, 14, 6, nan, nan, nan, nan, nan, nan, nan, nan, nan, 24, 4, 22, 19, 20, 8, 36, nan, nan, nan, nan, nan, nan, nan, nan, 50, 6, 38, 34, 52, 48, nan, nan, nan, nan, nan, nan, nan, nan, nan, 52, 64, 15, 55, 31, 61, 50, nan, nan, nan, nan, nan, nan, nan, nan, 58, 55, 64, 10, 30, 50, 14, nan, nan, nan, nan, nan, nan, nan, nan, 61, 8, 44, 18, 51, 26, 13, nan, nan, nan, nan, nan, nan, nan, nan, 60, 12, 50, 36, 13, 15, 51, nan, nan, nan, nan, nan, nan, nan, nan, 6, 60, 37, 29, 25, 11, 52, nan, nan, nan, nan, nan, nan, nan, nan, 46, 38, 56, 6, 57, 52, 48, nan, nan, nan, nan, nan, nan, nan, nan, 13, 57, 51, 33, nan, 16, 28, nan, nan, nan, nan, nan, nan, nan, nan, nan, 5, 34, 27, nan, 23, 61, nan, nan, nan, nan, nan, nan, nan, nan, 11, 35, 29, 12, nan, 18, 15, nan, nan, nan, nan, nan, nan, nan, nan, 1, 54, 40, 16, 44, 21, 24, nan, nan, nan, nan, nan, nan, nan, nan, 20, 26, 39, 59, 21, 56, 22, nan, nan, nan, nan, nan, nan, nan, nan, 59, 17, 58, 20, nan, nan, nan, nan, nan, nan, nan, nan, nan, nan, nan, 12, 50, 57, 60, 61, 64, 56, nan, nan, nan, nan, nan, nan, nan, nan, 21, 23, 24, 63, 59, 46, 55, nan, nan, nan, nan, nan, nan, nan, nan, nan, 14, 32, 53, 39, 24, 59, nan, nan, nan, nan, nan, nan, nan, nan, 5, 51, 60, 56, 63, 55, 58, nan, nan, nan, nan, nan, nan, nan, nan, 35, 7, 27, 50, 64, 43, 23, nan, nan, nan, nan, nan, nan, nan, nan, 18, 24, 21, 61, 8, 51, 25, nan, nan, nan, nan, nan, nan, nan, nan, 17, 63, nan, 52, nan, 29, 35, nan, nan, nan, nan, nan, nan, nan, nan, 26, 20, 63, 64, 58, nan, nan, nan, nan, nan, nan, nan, nan, nan, nan, 29, 42, 33, 46, nan, 31, 30, nan, nan, nan, nan, nan, nan, nan, nan, 27, 45, 36, 57, 32, 47, 33, nan, nan, nan, nan, nan, nan, nan, nan, 30, 22, 19, 48, 29, 35, 34, nan, nan, nan, nan, nan, nan, nan, nan, nan, 25, nan, 44, nan, 57, nan, nan, nan, nan, nan, nan, nan, nan, nan, 14, 39, 61, nan, 15, 59, 64, nan, nan, nan, nan, nan, nan, nan, nan, 62, 31, 10, 30, nan, 45, 43, nan, nan, nan, nan, nan, nan, nan, nan, nan, 11, 35, 45, nan, 40, 42, nan, nan, nan, nan, nan, nan, nan, nan, 7, 36, 42, 51, 35, 53, nan, nan, nan, nan, nan, nan, nan, nan, nan, 31, 2, 41, 23, 49, nan, 45, nan, nan, nan, nan, nan, nan, nan, nan, 41, nan, 9, 40, 43, 54, 44, nan, nan, nan, nan, nan, nan, nan, nan, 33, 34, 45, 42, 24, nan, nan, nan, nan, nan, nan, nan, nan, nan, nan, 32, 3, 54, 47, 42, 30, 37, nan, nan, nan, nan, nan, nan, nan, nan, 55, nan, nan, nan, nan, nan, nan, nan, nan, nan, nan, nan, nan, nan, nan, 2, 48, 49, 43, 45, nan, nan, nan, nan, nan, nan, nan, nan, nan, nan, 22, 30, 31, 49, 46, 42, 54, nan, nan, nan, nan, nan, nan, nan, nan]\n"
     ]
    }
   ],
   "source": [
    "# Importing numpy as well for our analysis:\n",
    "import numpy as np \n",
    "\n",
    "# Extracting all round information from our 'new_list' data, the extracted segments should be like '\\|[A-Z][^\\.a-z\\n]{4}|\\|\\s{5}'\n",
    "round_regex = re.compile('\\|[A-Z][^\\.a-z\\n]{4}|\\|\\s{5}')\n",
    "round_info= round_regex.findall(str(new_list))\n",
    "\n",
    "'''Craeting an empty list 'opponents_id' where round information will be saved. The segments ending with a digit will be\n",
    "taken as valid and converted to int. The ones which end with a space will be taken as invalid, and replaced with np.nan'''\n",
    "opponents_id=[]\n",
    "for i in round_info:\n",
    "    if bool(re.match('\\d',i[-1]))==False:\n",
    "        opponents_id.append(np.nan)\n",
    "    else:\n",
    "        opponents_id.append(int(i[-2:]))\n",
    "\n",
    "# viewing our list:\n",
    "print (opponents_id)"
   ]
  },
  {
   "cell_type": "markdown",
   "metadata": {},
   "source": [
    "Now, we have the opponents IDs but now we will change it the rating of the opponents so that we can apply our analysis:"
   ]
  },
  {
   "cell_type": "code",
   "execution_count": 131,
   "metadata": {},
   "outputs": [
    {
     "name": "stdout",
     "output_type": "stream",
     "text": [
      "[1436, 1563, 1600, 1610, 1649, 1663, 1716, nan, nan, nan, nan, nan, nan, nan, nan, 1175, 917, 1716, 1629, 1604, 1595, 1649, nan, nan, nan, nan, nan, nan, nan, nan, 1641, 955, 1745, 1563, 1712, 1666, 1663, nan, nan, nan, nan, nan, nan, nan, nan, 1363, 1507, 1553, 1579, 1655, 1564, 1794, nan, nan, nan, nan, nan, nan, nan, nan, 1242, 980, 1663, 1666, 1716, 1610, 1629, nan, nan, nan, nan, nan, nan, nan, nan, 1399, 1602, 1712, 1438, 1365, 1552, 1563, nan, nan, nan, nan, nan, nan, nan, nan, 1092, 377, 1666, 1712, 1794, 1411, 1553, nan, nan, nan, nan, nan, nan, nan, nan, 1384, 1441, 1610, 1411, 1362, 1507, 1564, nan, nan, nan, nan, nan, nan, nan, nan, 1745, 1600, 853, 1641, 1579, 1649, 1595, nan, nan, nan, nan, nan, nan, nan, nan, 1604, 1564, 1186, 1494, 1686, 1745, 1600, nan, nan, nan, nan, nan, nan, nan, nan, 1423, 1153, 1686, 1649, 1384, 1399, 1579, nan, nan, nan, nan, nan, nan, nan, nan, 1332, 1449, 1655, 1423, nan, 1794, 1384, nan, nan, nan, nan, nan, nan, nan, nan, 1355, 1552, 1649, 1655, 1449, 1384, 1441, nan, nan, nan, nan, nan, nan, nan, nan, 1270, 1199, 1641, 1794, 1552, 1655, 1494, nan, nan, nan, nan, nan, nan, nan, nan, 1564, 1604, 1522, 1555, 1270, 1449, 1423, nan, nan, nan, nan, nan, nan, nan, nan, 1365, 1220, nan, 1436, 1553, 1355, nan, nan, nan, nan, nan, nan, nan, nan, nan, 1382, 1403, 1579, 1553, 1363, 1555, 1655, nan, nan, nan, nan, nan, nan, nan, nan, 1362, 1411, 1794, 1441, 1564, 1423, 1365, nan, nan, nan, nan, nan, nan, nan, nan, 1220, 1365, 935, 1507, 1600, 1716, 1641, nan, nan, nan, nan, nan, nan, nan, nan, 1348, 1291, 1363, 1403, 1507, 1553, 1411, nan, nan, nan, nan, nan, nan, nan, nan, 1283, 1794, 1362, 1384, 1348, 1436, 1686, nan, nan, nan, nan, nan, nan, nan, nan, 1163, 935, 1507, 1220, nan, 1629, 1348, nan, nan, nan, nan, nan, nan, nan, nan, 1716, 1283, 1595, 917, 1629, 980, 377, nan, nan, nan, nan, nan, nan, nan, nan, 1507, 1362, 1283, 1745, 967, 1199, 1436, nan, nan, nan, nan, nan, nan, nan, nan, 1411, 1393, 1384, 1229, 1399, 1365, 1362, nan, nan, nan, nan, nan, nan, nan, nan, 1291, 1348, 1629, 1716, 1411, 1441, 1712, nan, nan, nan, nan, nan, nan, nan, nan, 1011, 1666, 377, 980, 1610, 1686, nan, nan, nan, nan, nan, nan, nan, nan, nan, 1229, 1716, 1555, 1564, 1595, 1641, 1355, nan, nan, nan, nan, nan, nan, nan, nan, 1056, 1686, 1423, 1399, 935, 1382, nan, nan, nan, nan, nan, nan, nan, nan, nan, 935, 1163, 1220, 1186, 1494, 955, 1056, nan, nan, nan, nan, nan, nan, nan, nan, 917, 1186, 1163, 1365, 1522, 1056, 1610, nan, nan, nan, nan, nan, nan, nan, nan, 955, 1641, 1199, 1600, 1011, 1579, 1666, nan, nan, nan, nan, nan, nan, nan, nan, 967, 1663, 1056, 1355, 1666, 1220, 1011, nan, nan, nan, nan, nan, nan, nan, nan, 1686, 967, 980, 1602, 1745, 1712, 935, nan, nan, nan, nan, nan, nan, nan, nan, 377, 1423, 1153, 1686, 1092, 935, 1382, nan, nan, nan, nan, nan, nan, nan, nan, 1666, 1092, 1011, 1449, nan, 1604, 1507, nan, nan, nan, nan, nan, nan, nan, nan, nan, 1655, 1399, 1552, nan, 1363, 955, nan, nan, nan, nan, nan, nan, nan, nan, 1712, 1438, 1602, 1663, nan, 1600, 1220, nan, nan, nan, nan, nan, nan, nan, nan, 1794, 1270, 1348, 1604, 1199, 1563, 1229, nan, nan, nan, nan, nan, nan, nan, nan, 1595, 1579, 1436, 853, 1563, 1153, 1555, nan, nan, nan, nan, nan, nan, nan, nan, 853, 1629, 917, 1595, nan, nan, nan, nan, nan, nan, nan, nan, nan, nan, nan, 1663, 1056, 1092, 967, 955, 1163, 1153, nan, nan, nan, nan, nan, nan, nan, nan, 1563, 1363, 1229, 1175, 853, 377, 1186, nan, nan, nan, nan, nan, nan, nan, nan, nan, 1610, 1441, 1393, 1436, 1229, 853, nan, nan, nan, nan, nan, nan, nan, nan, 1655, 1011, 967, 1153, 1175, 1186, 917, nan, nan, nan, nan, nan, nan, nan, nan, 1438, 1649, 1552, 1056, 1163, 1283, 1363, nan, nan, nan, nan, nan, nan, nan, nan, 1600, 1229, 1563, 955, 1641, 1011, 1745, nan, nan, nan, nan, nan, nan, nan, nan, 1629, 1175, nan, 935, nan, 1602, 1438, nan, nan, nan, nan, nan, nan, nan, nan, 1579, 1595, 1175, 1163, 917, nan, nan, nan, nan, nan, nan, nan, nan, nan, nan, 1602, 1332, 1449, 377, nan, 1494, 1522, nan, nan, nan, nan, nan, nan, nan, nan, 1552, 1242, 1355, 1092, 1441, 1362, 1449, nan, nan, nan, nan, nan, nan, nan, nan, 1522, 1555, 1564, 1382, 1602, 1438, 1399, nan, nan, nan, nan, nan, nan, nan, nan, nan, 1745, nan, 1199, nan, 1092, nan, nan, nan, nan, nan, nan, nan, nan, nan, 1610, 1436, 955, nan, 1220, 853, 1163, nan, nan, nan, nan, nan, nan, nan, nan, 1530, 1494, 1365, 1522, nan, 1242, 1283, nan, nan, nan, nan, nan, nan, nan, nan, nan, 1712, 1438, 1242, nan, 1348, 1332, nan, nan, nan, nan, nan, nan, nan, nan, 1649, 1355, 1332, 1011, 1438, 1393, nan, nan, nan, nan, nan, nan, nan, nan, nan, 1494, 1553, 1403, 1363, 1291, nan, 1242, nan, nan, nan, nan, nan, nan, nan, nan, 1403, nan, 1411, 1348, 1283, 1270, 1199, nan, nan, nan, nan, nan, nan, nan, nan, 1449, 1399, 1242, 1332, 1229, nan, nan, nan, nan, nan, nan, nan, nan, nan, nan, 1441, 1384, 1270, 1362, 1332, 1522, 980, nan, nan, nan, nan, nan, nan, nan, nan, 1186, nan, nan, nan, nan, nan, nan, nan, nan, nan, nan, nan, nan, nan, nan, 1553, 1382, 1291, 1283, 1242, nan, nan, nan, nan, nan, nan, nan, nan, nan, nan, 1555, 1522, 1494, 1291, 377, 1332, 1270, nan, nan, nan, nan, nan, nan, nan, nan]\n"
     ]
    }
   ],
   "source": [
    "# Creating an empty list 'opponent_rating' which will save the results of the corresponding rating based on the ID we found earlier:\n",
    "opponents_rating=[]\n",
    "\n",
    "# Using for loop to convert the opponent ID into the opponent's ratings, we will use 'updated_pre_rating' list we created before:\n",
    "\n",
    "for i in opponents_id:\n",
    "    # check to see if the element is int to ensure it is valid if its not then add a np.nan like we did previously:\n",
    "    if type(i)==int:\n",
    "        opponents_rating.append(updated_pre_rating[i-1])    \n",
    "    else:\n",
    "        opponents_rating.append(np.nan)\n",
    "\n",
    "# Seeing our list:\n",
    "print(opponents_rating)"
   ]
  },
  {
   "cell_type": "markdown",
   "metadata": {},
   "source": [
    "Now, we have the ratings for the opponents but we will split this 'opponent_rating' into into 64 sub-lists containing 15 elements each for calculating the mean 'Average Pre Tournament Chess Rating of Opponents' value for every player. We will use  np.nanmean() so that the function can only be applied to calculate the valid integer values only:"
   ]
  },
  {
   "cell_type": "code",
   "execution_count": 134,
   "metadata": {},
   "outputs": [
    {
     "name": "stdout",
     "output_type": "stream",
     "text": [
      "[1605, 1469, 1563, 1573, 1500, 1518, 1372, 1468, 1523, 1554, 1467, 1506, 1497, 1515, 1483, 1385, 1498, 1480, 1426, 1410, 1470, 1300, 1213, 1357, 1363, 1506, 1221, 1522, 1313, 1144, 1259, 1378, 1276, 1375, 1149, 1388, 1384, 1539, 1429, 1390, 1248, 1149, 1106, 1327, 1152, 1357, 1392, 1355, 1285, 1296, 1356, 1494, 1345, 1206, 1406, 1414, 1363, 1391, 1319, 1330, 1327, 1186, 1350, 1263]\n"
     ]
    }
   ],
   "source": [
    "'''For all the 64 players, in our previous list \"opponent_rating\" the values starting from the first element, each consecutive \n",
    "15 items belong to 1 player, so we will count the mean value, regardless of the existing nan values'''\n",
    "\n",
    "# Creating an empty list where we will save players 'Average Pre Tournament Chess Rating of Opponents':\n",
    "avg_value=[]\n",
    "\n",
    "# spliting each 15 elements from the previous list using the 'split' function and counting the average:\n",
    "split_value= np.array_split(opponents_rating,64)\n",
    "for i in split_value:\n",
    "    avg_value.append(int(np.nanmean(i)))\n",
    "\n",
    "# displaying the contents of the list:\n",
    "print (avg_value)"
   ]
  },
  {
   "cell_type": "markdown",
   "metadata": {},
   "source": [
    "Now we have all the 'avg_values' we will then save them in a dataframe in the next step."
   ]
  },
  {
   "cell_type": "markdown",
   "metadata": {},
   "source": [
    "### Final Dataframe and CSV File:"
   ]
  },
  {
   "cell_type": "code",
   "execution_count": 135,
   "metadata": {},
   "outputs": [
    {
     "data": {
      "text/html": [
       "<div>\n",
       "<style scoped>\n",
       "    .dataframe tbody tr th:only-of-type {\n",
       "        vertical-align: middle;\n",
       "    }\n",
       "\n",
       "    .dataframe tbody tr th {\n",
       "        vertical-align: top;\n",
       "    }\n",
       "\n",
       "    .dataframe thead th {\n",
       "        text-align: right;\n",
       "    }\n",
       "</style>\n",
       "<table border=\"1\" class=\"dataframe\">\n",
       "  <thead>\n",
       "    <tr style=\"text-align: right;\">\n",
       "      <th></th>\n",
       "      <th>Player’s Name</th>\n",
       "      <th>Player’s State</th>\n",
       "      <th>Total Number of Points</th>\n",
       "      <th>Player’s Pre-Rating</th>\n",
       "      <th>Average Pre Tournament Chess Rating of Opponents</th>\n",
       "    </tr>\n",
       "  </thead>\n",
       "  <tbody>\n",
       "    <tr>\n",
       "      <th>0</th>\n",
       "      <td>GARY HUA</td>\n",
       "      <td>ON</td>\n",
       "      <td>6.0</td>\n",
       "      <td>1794</td>\n",
       "      <td>1605</td>\n",
       "    </tr>\n",
       "    <tr>\n",
       "      <th>1</th>\n",
       "      <td>DAKSHESH DARURI</td>\n",
       "      <td>MI</td>\n",
       "      <td>6.0</td>\n",
       "      <td>1553</td>\n",
       "      <td>1469</td>\n",
       "    </tr>\n",
       "    <tr>\n",
       "      <th>2</th>\n",
       "      <td>ADITYA BAJAJ</td>\n",
       "      <td>MI</td>\n",
       "      <td>6.0</td>\n",
       "      <td>1384</td>\n",
       "      <td>1563</td>\n",
       "    </tr>\n",
       "    <tr>\n",
       "      <th>3</th>\n",
       "      <td>PATRICK H SCHILLING</td>\n",
       "      <td>MI</td>\n",
       "      <td>5.5</td>\n",
       "      <td>1716</td>\n",
       "      <td>1573</td>\n",
       "    </tr>\n",
       "    <tr>\n",
       "      <th>4</th>\n",
       "      <td>HANSHI ZUO</td>\n",
       "      <td>MI</td>\n",
       "      <td>5.5</td>\n",
       "      <td>1655</td>\n",
       "      <td>1500</td>\n",
       "    </tr>\n",
       "    <tr>\n",
       "      <th>...</th>\n",
       "      <td>...</td>\n",
       "      <td>...</td>\n",
       "      <td>...</td>\n",
       "      <td>...</td>\n",
       "      <td>...</td>\n",
       "    </tr>\n",
       "    <tr>\n",
       "      <th>59</th>\n",
       "      <td>JULIA SHEN</td>\n",
       "      <td>MI</td>\n",
       "      <td>1.5</td>\n",
       "      <td>967</td>\n",
       "      <td>1330</td>\n",
       "    </tr>\n",
       "    <tr>\n",
       "      <th>60</th>\n",
       "      <td>JEZZEL FARKAS</td>\n",
       "      <td>ON</td>\n",
       "      <td>1.5</td>\n",
       "      <td>955</td>\n",
       "      <td>1327</td>\n",
       "    </tr>\n",
       "    <tr>\n",
       "      <th>61</th>\n",
       "      <td>ASHWIN BALAJI</td>\n",
       "      <td>MI</td>\n",
       "      <td>1.0</td>\n",
       "      <td>1530</td>\n",
       "      <td>1186</td>\n",
       "    </tr>\n",
       "    <tr>\n",
       "      <th>62</th>\n",
       "      <td>THOMAS JOSEPH HOSMER</td>\n",
       "      <td>MI</td>\n",
       "      <td>1.0</td>\n",
       "      <td>1175</td>\n",
       "      <td>1350</td>\n",
       "    </tr>\n",
       "    <tr>\n",
       "      <th>63</th>\n",
       "      <td>BEN LI</td>\n",
       "      <td>MI</td>\n",
       "      <td>1.0</td>\n",
       "      <td>1163</td>\n",
       "      <td>1263</td>\n",
       "    </tr>\n",
       "  </tbody>\n",
       "</table>\n",
       "<p>64 rows × 5 columns</p>\n",
       "</div>"
      ],
      "text/plain": [
       "           Player’s Name Player’s State Total Number of Points  \\\n",
       "0              GARY HUA              ON                    6.0   \n",
       "1       DAKSHESH DARURI              MI                    6.0   \n",
       "2          ADITYA BAJAJ              MI                    6.0   \n",
       "3    PATRICK H SCHILLING             MI                    5.5   \n",
       "4            HANSHI ZUO              MI                    5.5   \n",
       "..                   ...            ...                    ...   \n",
       "59           JULIA SHEN              MI                    1.5   \n",
       "60        JEZZEL FARKAS              ON                    1.5   \n",
       "61        ASHWIN BALAJI              MI                    1.0   \n",
       "62  THOMAS JOSEPH HOSMER             MI                    1.0   \n",
       "63               BEN LI              MI                    1.0   \n",
       "\n",
       "    Player’s Pre-Rating  Average Pre Tournament Chess Rating of Opponents  \n",
       "0                  1794                                              1605  \n",
       "1                  1553                                              1469  \n",
       "2                  1384                                              1563  \n",
       "3                  1716                                              1573  \n",
       "4                  1655                                              1500  \n",
       "..                  ...                                               ...  \n",
       "59                  967                                              1330  \n",
       "60                  955                                              1327  \n",
       "61                 1530                                              1186  \n",
       "62                 1175                                              1350  \n",
       "63                 1163                                              1263  \n",
       "\n",
       "[64 rows x 5 columns]"
      ]
     },
     "execution_count": 135,
     "metadata": {},
     "output_type": "execute_result"
    }
   ],
   "source": [
    "# Use the data to create dataframe:\n",
    "\n",
    "data = {'Player’s Name':names,\n",
    "        'Player’s State':updated_states,\n",
    "        'Total Number of Points':number_of_points,\n",
    "        'Player’s Pre-Rating':updated_pre_rating,\n",
    "         'Average Pre Tournament Chess Rating of Opponents':avg_value} \n",
    "\n",
    "# Create DataFrame: \n",
    "df = pd.DataFrame(data) \n",
    "\n",
    "# Let's now see our dataframe:\n",
    "df"
   ]
  },
  {
   "cell_type": "markdown",
   "metadata": {},
   "source": [
    "Our data is now in a very structured and readable dataframe, we wil now save it as a CSV File."
   ]
  },
  {
   "cell_type": "code",
   "execution_count": 136,
   "metadata": {},
   "outputs": [],
   "source": [
    "# Export the dataframe to a csv file.\n",
    "df.to_csv(r'D:\\Yeshiva\\Spring 2021\\Analytics Programming\\Module#11\\Shichao_Muhammad_Project3.csv', index=False)"
   ]
  }
 ],
 "metadata": {
  "kernelspec": {
   "display_name": "Python 3",
   "language": "python",
   "name": "python3"
  },
  "language_info": {
   "codemirror_mode": {
    "name": "ipython",
    "version": 3
   },
   "file_extension": ".py",
   "mimetype": "text/x-python",
   "name": "python",
   "nbconvert_exporter": "python",
   "pygments_lexer": "ipython3",
   "version": "3.8.5"
  }
 },
 "nbformat": 4,
 "nbformat_minor": 2
}
