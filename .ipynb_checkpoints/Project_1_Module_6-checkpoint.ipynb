{
 "cells": [
  {
   "cell_type": "markdown",
   "metadata": {},
   "source": [
    "# Project:1 (Exploratory Data Analysis Using Matplotlib & Seaborn)"
   ]
  },
  {
   "cell_type": "markdown",
   "metadata": {},
   "source": [
    "### Submitted by :\n",
    "\n",
    "* Yuxiao Shen (yshen3@mail.yu.edu)\n",
    "* Muhammad Bilal Jamil (mjamil@mail.yu.edu)\n",
    "\n",
    "### Submitted to : Prof. Topor"
   ]
  },
  {
   "cell_type": "markdown",
   "metadata": {},
   "source": [
    "### Index:\n",
    "\n",
    "#### 1. Introduction\n",
    "#### 2. Data Summary\n",
    "#### 3. Exploratory Data Analysis (EDA) \n",
    "#### 4. Inference\n",
    "#### 5. Conclusion\n",
    "#### 6. References\n"
   ]
  },
  {
   "cell_type": "markdown",
   "metadata": {},
   "source": [
    "### 1. Introduction:"
   ]
  },
  {
   "cell_type": "markdown",
   "metadata": {},
   "source": [
    "For our project, We will use a *COVID-19* dataset which was collected by ***European Centre for Disease Prevention and Control (ECDC)***. The dataset contains a total of 61,900 rows and 12 columns. The division of dataype is as follows:\n",
    "> 1. Total of 8 categorical datatype.\n",
    "> 2. Total of 4 numeric datatype.\n",
    "\n",
    "ECDC is an agency of European Union (EU) whose mission is to strengthen Europe's defences against infectious diseases.It covers a wide spectrum of activities, such as: surveillance, epidemic intelligence, response, scientific advice, microbiology, preparedness, public health training, international relations, health communication, and the scientific journal Eurosurveillance. The Centre was established in 2004 and is headquartered in Solna, Sweden.\n",
    "\n",
    "This dataset basically stored country and continent wise daily information on COVID data i.e. 'cases and deaths'. It also showed population of all these countries for year 2019. The data collected was started on 31st December, 2019 and ended on 14th December, 2020. This data can be very helpful to generate insights for a specific country or continent, on how many cases were there and how many deaths were there. \n",
    "\n",
    "For our research question, we as a team wanted to analyze the trends of COVID-19 between United States of America, Pakistan and China. Generate insights which country had most cases/deaths till April 2020. We wanted to do this so that it can help policy makers of these countries to come up with better strategies to face any type of Pandemic in future like COVID especially in the initial months. We will analyze the data from January 2020 to April 2020. \n",
    "\n",
    "\n",
    "> ##### Steps required to answer the question above:-\n",
    "> 1. Find overall count of cases and deaths for United States of America from January 2020 to April 2020.\n",
    "> 2. Find overall count of cases and deaths for Pakistan from January 2020 to April 2020.\n",
    "> 3. Find overall count of cases and deaths for China from January 2020 to April 2020.\n",
    "> 4. Visualize the data, generate percentage difference and fatality rates."
   ]
  },
  {
   "cell_type": "markdown",
   "metadata": {},
   "source": [
    "### 2. Data Summary:"
   ]
  },
  {
   "cell_type": "markdown",
   "metadata": {},
   "source": [
    "The dataset was acquired from the official website of ECDE:\n",
    "https://www.ecdc.europa.eu/en/publications-data/download-todays-data-geographic-distribution-covid-19-cases-worldwide\n",
    "\n",
    "Before we do any detailed analysis and visualize our data, it is very important to first understand the data and what it means. We will try to accomplish this by importing the relevant libraries and our dataset. We will also view the head and the tail of the dataset as well as read the dataset's description and information. This will be a very crucial step which will help us to come with a defined strategy to answer our research question and what steps should be taken to successfully accomplish our goal."
   ]
  },
  {
   "cell_type": "code",
   "execution_count": 16,
   "metadata": {},
   "outputs": [],
   "source": [
    "# Importing python libraries pandas, numpy, seaborn and matplotlib for our project.\n",
    "# We are also reading the dataset directly from GitHub where we uploaded the data:\n",
    "\n",
    "import pandas as pd\n",
    "import numpy as np\n",
    "import seaborn as sns\n",
    "import matplotlib.pyplot as plt\n",
    "covid_dataset = 'https://raw.githubusercontent.com/mbjamil92/DAV-5400/main/datasets/data.csv'\n",
    "cd = pd.read_csv(covid_dataset)\n",
    "\n",
    "# Dataset is now stored in the pandas dataframe."
   ]
  },
  {
   "cell_type": "markdown",
   "metadata": {},
   "source": [
    "* Head of our data frame:"
   ]
  },
  {
   "cell_type": "code",
   "execution_count": 4,
   "metadata": {
    "scrolled": true
   },
   "outputs": [
    {
     "data": {
      "text/html": [
       "<div>\n",
       "<style scoped>\n",
       "    .dataframe tbody tr th:only-of-type {\n",
       "        vertical-align: middle;\n",
       "    }\n",
       "\n",
       "    .dataframe tbody tr th {\n",
       "        vertical-align: top;\n",
       "    }\n",
       "\n",
       "    .dataframe thead th {\n",
       "        text-align: right;\n",
       "    }\n",
       "</style>\n",
       "<table border=\"1\" class=\"dataframe\">\n",
       "  <thead>\n",
       "    <tr style=\"text-align: right;\">\n",
       "      <th></th>\n",
       "      <th>dateRep</th>\n",
       "      <th>day</th>\n",
       "      <th>month</th>\n",
       "      <th>year</th>\n",
       "      <th>cases</th>\n",
       "      <th>deaths</th>\n",
       "      <th>countriesAndTerritories</th>\n",
       "      <th>geoId</th>\n",
       "      <th>countryterritoryCode</th>\n",
       "      <th>popData2019</th>\n",
       "      <th>continentExp</th>\n",
       "      <th>Cumulative_number_for_14_days_of_COVID-19_cases_per_100000</th>\n",
       "    </tr>\n",
       "  </thead>\n",
       "  <tbody>\n",
       "    <tr>\n",
       "      <th>0</th>\n",
       "      <td>14/12/2020</td>\n",
       "      <td>14</td>\n",
       "      <td>12</td>\n",
       "      <td>2020</td>\n",
       "      <td>746</td>\n",
       "      <td>6</td>\n",
       "      <td>Afghanistan</td>\n",
       "      <td>AF</td>\n",
       "      <td>AFG</td>\n",
       "      <td>38041757.0</td>\n",
       "      <td>Asia</td>\n",
       "      <td>9.013779</td>\n",
       "    </tr>\n",
       "    <tr>\n",
       "      <th>1</th>\n",
       "      <td>13/12/2020</td>\n",
       "      <td>13</td>\n",
       "      <td>12</td>\n",
       "      <td>2020</td>\n",
       "      <td>298</td>\n",
       "      <td>9</td>\n",
       "      <td>Afghanistan</td>\n",
       "      <td>AF</td>\n",
       "      <td>AFG</td>\n",
       "      <td>38041757.0</td>\n",
       "      <td>Asia</td>\n",
       "      <td>7.052776</td>\n",
       "    </tr>\n",
       "    <tr>\n",
       "      <th>2</th>\n",
       "      <td>12/12/2020</td>\n",
       "      <td>12</td>\n",
       "      <td>12</td>\n",
       "      <td>2020</td>\n",
       "      <td>113</td>\n",
       "      <td>11</td>\n",
       "      <td>Afghanistan</td>\n",
       "      <td>AF</td>\n",
       "      <td>AFG</td>\n",
       "      <td>38041757.0</td>\n",
       "      <td>Asia</td>\n",
       "      <td>6.868768</td>\n",
       "    </tr>\n",
       "    <tr>\n",
       "      <th>3</th>\n",
       "      <td>11/12/2020</td>\n",
       "      <td>11</td>\n",
       "      <td>12</td>\n",
       "      <td>2020</td>\n",
       "      <td>63</td>\n",
       "      <td>10</td>\n",
       "      <td>Afghanistan</td>\n",
       "      <td>AF</td>\n",
       "      <td>AFG</td>\n",
       "      <td>38041757.0</td>\n",
       "      <td>Asia</td>\n",
       "      <td>7.134266</td>\n",
       "    </tr>\n",
       "    <tr>\n",
       "      <th>4</th>\n",
       "      <td>10/12/2020</td>\n",
       "      <td>10</td>\n",
       "      <td>12</td>\n",
       "      <td>2020</td>\n",
       "      <td>202</td>\n",
       "      <td>16</td>\n",
       "      <td>Afghanistan</td>\n",
       "      <td>AF</td>\n",
       "      <td>AFG</td>\n",
       "      <td>38041757.0</td>\n",
       "      <td>Asia</td>\n",
       "      <td>6.968658</td>\n",
       "    </tr>\n",
       "  </tbody>\n",
       "</table>\n",
       "</div>"
      ],
      "text/plain": [
       "      dateRep  day  month  year  cases  deaths countriesAndTerritories geoId  \\\n",
       "0  14/12/2020   14     12  2020    746       6             Afghanistan    AF   \n",
       "1  13/12/2020   13     12  2020    298       9             Afghanistan    AF   \n",
       "2  12/12/2020   12     12  2020    113      11             Afghanistan    AF   \n",
       "3  11/12/2020   11     12  2020     63      10             Afghanistan    AF   \n",
       "4  10/12/2020   10     12  2020    202      16             Afghanistan    AF   \n",
       "\n",
       "  countryterritoryCode  popData2019 continentExp  \\\n",
       "0                  AFG   38041757.0         Asia   \n",
       "1                  AFG   38041757.0         Asia   \n",
       "2                  AFG   38041757.0         Asia   \n",
       "3                  AFG   38041757.0         Asia   \n",
       "4                  AFG   38041757.0         Asia   \n",
       "\n",
       "   Cumulative_number_for_14_days_of_COVID-19_cases_per_100000  \n",
       "0                                           9.013779           \n",
       "1                                           7.052776           \n",
       "2                                           6.868768           \n",
       "3                                           7.134266           \n",
       "4                                           6.968658           "
      ]
     },
     "execution_count": 4,
     "metadata": {},
     "output_type": "execute_result"
    }
   ],
   "source": [
    "#We will check the head of our dataset:\n",
    "\n",
    "cd.head()"
   ]
  },
  {
   "cell_type": "markdown",
   "metadata": {},
   "source": [
    "* Tail of our data frame:"
   ]
  },
  {
   "cell_type": "code",
   "execution_count": 5,
   "metadata": {
    "scrolled": false
   },
   "outputs": [
    {
     "data": {
      "text/html": [
       "<div>\n",
       "<style scoped>\n",
       "    .dataframe tbody tr th:only-of-type {\n",
       "        vertical-align: middle;\n",
       "    }\n",
       "\n",
       "    .dataframe tbody tr th {\n",
       "        vertical-align: top;\n",
       "    }\n",
       "\n",
       "    .dataframe thead th {\n",
       "        text-align: right;\n",
       "    }\n",
       "</style>\n",
       "<table border=\"1\" class=\"dataframe\">\n",
       "  <thead>\n",
       "    <tr style=\"text-align: right;\">\n",
       "      <th></th>\n",
       "      <th>dateRep</th>\n",
       "      <th>day</th>\n",
       "      <th>month</th>\n",
       "      <th>year</th>\n",
       "      <th>cases</th>\n",
       "      <th>deaths</th>\n",
       "      <th>countriesAndTerritories</th>\n",
       "      <th>geoId</th>\n",
       "      <th>countryterritoryCode</th>\n",
       "      <th>popData2019</th>\n",
       "      <th>continentExp</th>\n",
       "      <th>Cumulative_number_for_14_days_of_COVID-19_cases_per_100000</th>\n",
       "    </tr>\n",
       "  </thead>\n",
       "  <tbody>\n",
       "    <tr>\n",
       "      <th>61895</th>\n",
       "      <td>25/03/2020</td>\n",
       "      <td>25</td>\n",
       "      <td>3</td>\n",
       "      <td>2020</td>\n",
       "      <td>0</td>\n",
       "      <td>0</td>\n",
       "      <td>Zimbabwe</td>\n",
       "      <td>ZW</td>\n",
       "      <td>ZWE</td>\n",
       "      <td>14645473.0</td>\n",
       "      <td>Africa</td>\n",
       "      <td>NaN</td>\n",
       "    </tr>\n",
       "    <tr>\n",
       "      <th>61896</th>\n",
       "      <td>24/03/2020</td>\n",
       "      <td>24</td>\n",
       "      <td>3</td>\n",
       "      <td>2020</td>\n",
       "      <td>0</td>\n",
       "      <td>1</td>\n",
       "      <td>Zimbabwe</td>\n",
       "      <td>ZW</td>\n",
       "      <td>ZWE</td>\n",
       "      <td>14645473.0</td>\n",
       "      <td>Africa</td>\n",
       "      <td>NaN</td>\n",
       "    </tr>\n",
       "    <tr>\n",
       "      <th>61897</th>\n",
       "      <td>23/03/2020</td>\n",
       "      <td>23</td>\n",
       "      <td>3</td>\n",
       "      <td>2020</td>\n",
       "      <td>0</td>\n",
       "      <td>0</td>\n",
       "      <td>Zimbabwe</td>\n",
       "      <td>ZW</td>\n",
       "      <td>ZWE</td>\n",
       "      <td>14645473.0</td>\n",
       "      <td>Africa</td>\n",
       "      <td>NaN</td>\n",
       "    </tr>\n",
       "    <tr>\n",
       "      <th>61898</th>\n",
       "      <td>22/03/2020</td>\n",
       "      <td>22</td>\n",
       "      <td>3</td>\n",
       "      <td>2020</td>\n",
       "      <td>1</td>\n",
       "      <td>0</td>\n",
       "      <td>Zimbabwe</td>\n",
       "      <td>ZW</td>\n",
       "      <td>ZWE</td>\n",
       "      <td>14645473.0</td>\n",
       "      <td>Africa</td>\n",
       "      <td>NaN</td>\n",
       "    </tr>\n",
       "    <tr>\n",
       "      <th>61899</th>\n",
       "      <td>21/03/2020</td>\n",
       "      <td>21</td>\n",
       "      <td>3</td>\n",
       "      <td>2020</td>\n",
       "      <td>1</td>\n",
       "      <td>0</td>\n",
       "      <td>Zimbabwe</td>\n",
       "      <td>ZW</td>\n",
       "      <td>ZWE</td>\n",
       "      <td>14645473.0</td>\n",
       "      <td>Africa</td>\n",
       "      <td>NaN</td>\n",
       "    </tr>\n",
       "  </tbody>\n",
       "</table>\n",
       "</div>"
      ],
      "text/plain": [
       "          dateRep  day  month  year  cases  deaths countriesAndTerritories  \\\n",
       "61895  25/03/2020   25      3  2020      0       0                Zimbabwe   \n",
       "61896  24/03/2020   24      3  2020      0       1                Zimbabwe   \n",
       "61897  23/03/2020   23      3  2020      0       0                Zimbabwe   \n",
       "61898  22/03/2020   22      3  2020      1       0                Zimbabwe   \n",
       "61899  21/03/2020   21      3  2020      1       0                Zimbabwe   \n",
       "\n",
       "      geoId countryterritoryCode  popData2019 continentExp  \\\n",
       "61895    ZW                  ZWE   14645473.0       Africa   \n",
       "61896    ZW                  ZWE   14645473.0       Africa   \n",
       "61897    ZW                  ZWE   14645473.0       Africa   \n",
       "61898    ZW                  ZWE   14645473.0       Africa   \n",
       "61899    ZW                  ZWE   14645473.0       Africa   \n",
       "\n",
       "       Cumulative_number_for_14_days_of_COVID-19_cases_per_100000  \n",
       "61895                                                NaN           \n",
       "61896                                                NaN           \n",
       "61897                                                NaN           \n",
       "61898                                                NaN           \n",
       "61899                                                NaN           "
      ]
     },
     "execution_count": 5,
     "metadata": {},
     "output_type": "execute_result"
    }
   ],
   "source": [
    "#We will check the tail of our dataset:\n",
    "\n",
    "cd.tail()"
   ]
  },
  {
   "cell_type": "markdown",
   "metadata": {},
   "source": [
    "* Summary statistics of our data frame:"
   ]
  },
  {
   "cell_type": "code",
   "execution_count": 7,
   "metadata": {},
   "outputs": [
    {
     "data": {
      "text/html": [
       "<div>\n",
       "<style scoped>\n",
       "    .dataframe tbody tr th:only-of-type {\n",
       "        vertical-align: middle;\n",
       "    }\n",
       "\n",
       "    .dataframe tbody tr th {\n",
       "        vertical-align: top;\n",
       "    }\n",
       "\n",
       "    .dataframe thead th {\n",
       "        text-align: right;\n",
       "    }\n",
       "</style>\n",
       "<table border=\"1\" class=\"dataframe\">\n",
       "  <thead>\n",
       "    <tr style=\"text-align: right;\">\n",
       "      <th></th>\n",
       "      <th>day</th>\n",
       "      <th>month</th>\n",
       "      <th>year</th>\n",
       "      <th>cases</th>\n",
       "      <th>deaths</th>\n",
       "      <th>popData2019</th>\n",
       "      <th>Cumulative_number_for_14_days_of_COVID-19_cases_per_100000</th>\n",
       "    </tr>\n",
       "  </thead>\n",
       "  <tbody>\n",
       "    <tr>\n",
       "      <th>count</th>\n",
       "      <td>61900.000000</td>\n",
       "      <td>61900.000000</td>\n",
       "      <td>61900.000000</td>\n",
       "      <td>61900.000000</td>\n",
       "      <td>61900.000000</td>\n",
       "      <td>6.177700e+04</td>\n",
       "      <td>59021.000000</td>\n",
       "    </tr>\n",
       "    <tr>\n",
       "      <th>mean</th>\n",
       "      <td>15.628934</td>\n",
       "      <td>7.067157</td>\n",
       "      <td>2019.998918</td>\n",
       "      <td>1155.147237</td>\n",
       "      <td>26.055460</td>\n",
       "      <td>4.098770e+07</td>\n",
       "      <td>66.320586</td>\n",
       "    </tr>\n",
       "    <tr>\n",
       "      <th>std</th>\n",
       "      <td>8.841582</td>\n",
       "      <td>2.954776</td>\n",
       "      <td>0.032882</td>\n",
       "      <td>6779.224479</td>\n",
       "      <td>131.227055</td>\n",
       "      <td>1.531294e+08</td>\n",
       "      <td>162.329240</td>\n",
       "    </tr>\n",
       "    <tr>\n",
       "      <th>min</th>\n",
       "      <td>1.000000</td>\n",
       "      <td>1.000000</td>\n",
       "      <td>2019.000000</td>\n",
       "      <td>-8261.000000</td>\n",
       "      <td>-1918.000000</td>\n",
       "      <td>8.150000e+02</td>\n",
       "      <td>-147.419587</td>\n",
       "    </tr>\n",
       "    <tr>\n",
       "      <th>25%</th>\n",
       "      <td>8.000000</td>\n",
       "      <td>5.000000</td>\n",
       "      <td>2020.000000</td>\n",
       "      <td>0.000000</td>\n",
       "      <td>0.000000</td>\n",
       "      <td>1.293120e+06</td>\n",
       "      <td>0.757526</td>\n",
       "    </tr>\n",
       "    <tr>\n",
       "      <th>50%</th>\n",
       "      <td>15.000000</td>\n",
       "      <td>7.000000</td>\n",
       "      <td>2020.000000</td>\n",
       "      <td>15.000000</td>\n",
       "      <td>0.000000</td>\n",
       "      <td>7.169456e+06</td>\n",
       "      <td>6.724045</td>\n",
       "    </tr>\n",
       "    <tr>\n",
       "      <th>75%</th>\n",
       "      <td>23.000000</td>\n",
       "      <td>10.000000</td>\n",
       "      <td>2020.000000</td>\n",
       "      <td>273.000000</td>\n",
       "      <td>4.000000</td>\n",
       "      <td>2.851583e+07</td>\n",
       "      <td>52.572719</td>\n",
       "    </tr>\n",
       "    <tr>\n",
       "      <th>max</th>\n",
       "      <td>31.000000</td>\n",
       "      <td>12.000000</td>\n",
       "      <td>2020.000000</td>\n",
       "      <td>234633.000000</td>\n",
       "      <td>4928.000000</td>\n",
       "      <td>1.433784e+09</td>\n",
       "      <td>1900.836210</td>\n",
       "    </tr>\n",
       "  </tbody>\n",
       "</table>\n",
       "</div>"
      ],
      "text/plain": [
       "                day         month          year          cases        deaths  \\\n",
       "count  61900.000000  61900.000000  61900.000000   61900.000000  61900.000000   \n",
       "mean      15.628934      7.067157   2019.998918    1155.147237     26.055460   \n",
       "std        8.841582      2.954776      0.032882    6779.224479    131.227055   \n",
       "min        1.000000      1.000000   2019.000000   -8261.000000  -1918.000000   \n",
       "25%        8.000000      5.000000   2020.000000       0.000000      0.000000   \n",
       "50%       15.000000      7.000000   2020.000000      15.000000      0.000000   \n",
       "75%       23.000000     10.000000   2020.000000     273.000000      4.000000   \n",
       "max       31.000000     12.000000   2020.000000  234633.000000   4928.000000   \n",
       "\n",
       "        popData2019  \\\n",
       "count  6.177700e+04   \n",
       "mean   4.098770e+07   \n",
       "std    1.531294e+08   \n",
       "min    8.150000e+02   \n",
       "25%    1.293120e+06   \n",
       "50%    7.169456e+06   \n",
       "75%    2.851583e+07   \n",
       "max    1.433784e+09   \n",
       "\n",
       "       Cumulative_number_for_14_days_of_COVID-19_cases_per_100000  \n",
       "count                                       59021.000000           \n",
       "mean                                           66.320586           \n",
       "std                                           162.329240           \n",
       "min                                          -147.419587           \n",
       "25%                                             0.757526           \n",
       "50%                                             6.724045           \n",
       "75%                                            52.572719           \n",
       "max                                          1900.836210           "
      ]
     },
     "execution_count": 7,
     "metadata": {},
     "output_type": "execute_result"
    }
   ],
   "source": [
    "# Let's review the statistical summary and datatype of our dataframe:\n",
    "\n",
    "cd.describe()"
   ]
  },
  {
   "cell_type": "markdown",
   "metadata": {},
   "source": [
    "* Checking if there is any missing information and view the data type of our data frame:"
   ]
  },
  {
   "cell_type": "code",
   "execution_count": 8,
   "metadata": {
    "scrolled": true
   },
   "outputs": [
    {
     "name": "stdout",
     "output_type": "stream",
     "text": [
      "<class 'pandas.core.frame.DataFrame'>\n",
      "RangeIndex: 61900 entries, 0 to 61899\n",
      "Data columns (total 12 columns):\n",
      " #   Column                                                      Non-Null Count  Dtype  \n",
      "---  ------                                                      --------------  -----  \n",
      " 0   dateRep                                                     61900 non-null  object \n",
      " 1   day                                                         61900 non-null  int64  \n",
      " 2   month                                                       61900 non-null  int64  \n",
      " 3   year                                                        61900 non-null  int64  \n",
      " 4   cases                                                       61900 non-null  int64  \n",
      " 5   deaths                                                      61900 non-null  int64  \n",
      " 6   countriesAndTerritories                                     61900 non-null  object \n",
      " 7   geoId                                                       61625 non-null  object \n",
      " 8   countryterritoryCode                                        61777 non-null  object \n",
      " 9   popData2019                                                 61777 non-null  float64\n",
      " 10  continentExp                                                61900 non-null  object \n",
      " 11  Cumulative_number_for_14_days_of_COVID-19_cases_per_100000  59021 non-null  float64\n",
      "dtypes: float64(2), int64(5), object(5)\n",
      "memory usage: 5.7+ MB\n"
     ]
    }
   ],
   "source": [
    "cd.info()"
   ]
  },
  {
   "cell_type": "markdown",
   "metadata": {},
   "source": [
    "* Checking NULLS in our data frame:"
   ]
  },
  {
   "cell_type": "code",
   "execution_count": 10,
   "metadata": {
    "scrolled": true
   },
   "outputs": [
    {
     "data": {
      "text/plain": [
       "dateRep                                                          0\n",
       "day                                                              0\n",
       "month                                                            0\n",
       "year                                                             0\n",
       "cases                                                            0\n",
       "deaths                                                           0\n",
       "countriesAndTerritories                                          0\n",
       "geoId                                                          275\n",
       "countryterritoryCode                                           123\n",
       "popData2019                                                    123\n",
       "continentExp                                                     0\n",
       "Cumulative_number_for_14_days_of_COVID-19_cases_per_100000    2879\n",
       "dtype: int64"
      ]
     },
     "execution_count": 10,
     "metadata": {},
     "output_type": "execute_result"
    }
   ],
   "source": [
    "# apply .isnull.sum() on the dataframe to check the missing values\n",
    "cd.isnull().sum()"
   ]
  },
  {
   "cell_type": "markdown",
   "metadata": {},
   "source": [
    "We can see from the above code we can see is that there are nulls in 4 columns. Following is the summary:\n",
    "1. 275 nulls are there in geoID.\n",
    "2. 123 nulls in countryterritoryCode.\n",
    "3. 123 nulls in popData2019 and 2879. "
   ]
  },
  {
   "cell_type": "markdown",
   "metadata": {},
   "source": [
    "* Finding the shape (rows and columns) of our data frame:"
   ]
  },
  {
   "cell_type": "code",
   "execution_count": 9,
   "metadata": {},
   "outputs": [
    {
     "data": {
      "text/plain": [
       "(61900, 12)"
      ]
     },
     "execution_count": 9,
     "metadata": {},
     "output_type": "execute_result"
    }
   ],
   "source": [
    "cd.shape"
   ]
  },
  {
   "cell_type": "markdown",
   "metadata": {},
   "source": [
    "So according to our results above, following is the information on the dataframe:\n",
    "\n",
    "1. 61,900 rows and 12 columns.\n",
    "2. The attributes of data types can be classified as 3 types i.e. 'Object, Float and Integer'. \n",
    "\n",
    "> The attributes with the following column names are nominal categorical data as the data type **'object'**:\n",
    "\n",
    "       * dateRep, countriesAndTerritories, geoId, countryterritoryCode, and continentExp.  \n",
    "       \n",
    "> The attributes with the following column names are ordinal categorical data as the data type is **'integer'**:\n",
    "\n",
    "       * day, month, and year.\n",
    "       \n",
    "> The attributes with the following column names are numeric data as the data type **'integer'**:\n",
    "\n",
    "       * cases, and death.\n",
    "       \n",
    "> The attributes with the following column names are numeric data as the data type is **'float'**:\n",
    "\n",
    "       * popData2019, and Cumulative_number_for_14_days_of_COVID-19_cases_per_100000.\n"
   ]
  },
  {
   "cell_type": "markdown",
   "metadata": {},
   "source": [
    "### 3. Exploratory Data Analysis (EDA):"
   ]
  },
  {
   "cell_type": "markdown",
   "metadata": {},
   "source": [
    "List of continents"
   ]
  },
  {
   "cell_type": "code",
   "execution_count": 11,
   "metadata": {
    "scrolled": false
   },
   "outputs": [
    {
     "data": {
      "text/plain": [
       "array(['Asia', 'Europe', 'Africa', 'America', 'Oceania', 'Other'],\n",
       "      dtype=object)"
      ]
     },
     "execution_count": 11,
     "metadata": {},
     "output_type": "execute_result"
    }
   ],
   "source": [
    "cd.continentExp.unique()"
   ]
  },
  {
   "cell_type": "markdown",
   "metadata": {},
   "source": [
    "List of countries of Asia"
   ]
  },
  {
   "cell_type": "code",
   "execution_count": 30,
   "metadata": {
    "scrolled": true
   },
   "outputs": [
    {
     "data": {
      "text/plain": [
       "array(['Afghanistan', 'Bahrain', 'Bangladesh', 'Bhutan',\n",
       "       'Brunei_Darussalam', 'Cambodia', 'China', 'India', 'Indonesia',\n",
       "       'Iran', 'Iraq', 'Israel', 'Japan', 'Jordan', 'Kazakhstan',\n",
       "       'Kuwait', 'Kyrgyzstan', 'Laos', 'Lebanon', 'Malaysia', 'Maldives',\n",
       "       'Mongolia', 'Myanmar', 'Nepal', 'Oman', 'Pakistan', 'Palestine',\n",
       "       'Philippines', 'Qatar', 'Saudi_Arabia', 'Singapore', 'South_Korea',\n",
       "       'Sri_Lanka', 'Syria', 'Taiwan', 'Tajikistan', 'Thailand',\n",
       "       'Timor_Leste', 'United_Arab_Emirates', 'Uzbekistan', 'Vietnam',\n",
       "       'Yemen'], dtype=object)"
      ]
     },
     "execution_count": 30,
     "metadata": {},
     "output_type": "execute_result"
    }
   ],
   "source": [
    "cd.countriesAndTerritories[(cd['continentExp'] == 'Asia')].unique()"
   ]
  },
  {
   "cell_type": "markdown",
   "metadata": {},
   "source": [
    "List of countries of Europe"
   ]
  },
  {
   "cell_type": "code",
   "execution_count": 29,
   "metadata": {
    "scrolled": true
   },
   "outputs": [
    {
     "data": {
      "text/plain": [
       "array(['Albania', 'Andorra', 'Armenia', 'Austria', 'Azerbaijan',\n",
       "       'Belarus', 'Belgium', 'Bosnia_and_Herzegovina', 'Bulgaria',\n",
       "       'Croatia', 'Cyprus', 'Czechia', 'Denmark', 'Estonia',\n",
       "       'Faroe_Islands', 'Finland', 'France', 'Georgia', 'Germany',\n",
       "       'Gibraltar', 'Greece', 'Guernsey', 'Holy_See', 'Hungary',\n",
       "       'Iceland', 'Ireland', 'Isle_of_Man', 'Italy', 'Jersey', 'Kosovo',\n",
       "       'Latvia', 'Liechtenstein', 'Lithuania', 'Luxembourg', 'Malta',\n",
       "       'Moldova', 'Monaco', 'Montenegro', 'Netherlands',\n",
       "       'North_Macedonia', 'Norway', 'Poland', 'Portugal', 'Romania',\n",
       "       'Russia', 'San_Marino', 'Serbia', 'Slovakia', 'Slovenia', 'Spain',\n",
       "       'Sweden', 'Switzerland', 'Turkey', 'Ukraine', 'United_Kingdom'],\n",
       "      dtype=object)"
      ]
     },
     "execution_count": 29,
     "metadata": {},
     "output_type": "execute_result"
    }
   ],
   "source": [
    "cd.countriesAndTerritories[(cd['continentExp'] == 'Europe')].unique()"
   ]
  },
  {
   "cell_type": "markdown",
   "metadata": {},
   "source": [
    "List of countries of Africa"
   ]
  },
  {
   "cell_type": "code",
   "execution_count": 31,
   "metadata": {
    "scrolled": true
   },
   "outputs": [
    {
     "data": {
      "text/plain": [
       "array(['Algeria', 'Angola', 'Benin', 'Botswana', 'Burkina_Faso',\n",
       "       'Burundi', 'Cameroon', 'Cape_Verde', 'Central_African_Republic',\n",
       "       'Chad', 'Comoros', 'Congo', 'Cote_dIvoire',\n",
       "       'Democratic_Republic_of_the_Congo', 'Djibouti', 'Egypt',\n",
       "       'Equatorial_Guinea', 'Eritrea', 'Eswatini', 'Ethiopia', 'Gabon',\n",
       "       'Gambia', 'Ghana', 'Guinea', 'Guinea_Bissau', 'Kenya', 'Lesotho',\n",
       "       'Liberia', 'Libya', 'Madagascar', 'Malawi', 'Mali', 'Mauritania',\n",
       "       'Mauritius', 'Morocco', 'Mozambique', 'Namibia', 'Niger',\n",
       "       'Nigeria', 'Rwanda', 'Sao_Tome_and_Principe', 'Senegal',\n",
       "       'Seychelles', 'Sierra_Leone', 'Somalia', 'South_Africa',\n",
       "       'South_Sudan', 'Sudan', 'Togo', 'Tunisia', 'Uganda',\n",
       "       'United_Republic_of_Tanzania', 'Western_Sahara', 'Zambia',\n",
       "       'Zimbabwe'], dtype=object)"
      ]
     },
     "execution_count": 31,
     "metadata": {},
     "output_type": "execute_result"
    }
   ],
   "source": [
    "cd.countriesAndTerritories[(cd['continentExp'] == 'Africa')].unique()"
   ]
  },
  {
   "cell_type": "markdown",
   "metadata": {},
   "source": [
    "List of countries of America"
   ]
  },
  {
   "cell_type": "code",
   "execution_count": 32,
   "metadata": {
    "scrolled": true
   },
   "outputs": [
    {
     "data": {
      "text/plain": [
       "array(['Anguilla', 'Antigua_and_Barbuda', 'Argentina', 'Aruba', 'Bahamas',\n",
       "       'Barbados', 'Belize', 'Bermuda', 'Bolivia',\n",
       "       'Bonaire, Saint Eustatius and Saba', 'Brazil',\n",
       "       'British_Virgin_Islands', 'Canada', 'Cayman_Islands', 'Chile',\n",
       "       'Colombia', 'Costa_Rica', 'Cuba', 'Curaçao', 'Dominica',\n",
       "       'Dominican_Republic', 'Ecuador', 'El_Salvador',\n",
       "       'Falkland_Islands_(Malvinas)', 'Greenland', 'Grenada', 'Guatemala',\n",
       "       'Guyana', 'Haiti', 'Honduras', 'Jamaica', 'Mexico', 'Montserrat',\n",
       "       'Nicaragua', 'Panama', 'Paraguay', 'Peru', 'Puerto_Rico',\n",
       "       'Saint_Kitts_and_Nevis', 'Saint_Lucia',\n",
       "       'Saint_Vincent_and_the_Grenadines', 'Sint_Maarten', 'Suriname',\n",
       "       'Trinidad_and_Tobago', 'Turks_and_Caicos_islands',\n",
       "       'United_States_of_America', 'United_States_Virgin_Islands',\n",
       "       'Uruguay', 'Venezuela'], dtype=object)"
      ]
     },
     "execution_count": 32,
     "metadata": {},
     "output_type": "execute_result"
    }
   ],
   "source": [
    "cd.countriesAndTerritories[(cd['continentExp'] == 'America')].unique()"
   ]
  },
  {
   "cell_type": "markdown",
   "metadata": {},
   "source": [
    "List of countries of Oceania"
   ]
  },
  {
   "cell_type": "code",
   "execution_count": 33,
   "metadata": {
    "scrolled": true
   },
   "outputs": [
    {
     "data": {
      "text/plain": [
       "array(['Australia', 'Fiji', 'French_Polynesia', 'Guam',\n",
       "       'Marshall_Islands', 'New_Caledonia', 'New_Zealand',\n",
       "       'Northern_Mariana_Islands', 'Papua_New_Guinea', 'Solomon_Islands',\n",
       "       'Vanuatu', 'Wallis_and_Futuna'], dtype=object)"
      ]
     },
     "execution_count": 33,
     "metadata": {},
     "output_type": "execute_result"
    }
   ],
   "source": [
    "cd.countriesAndTerritories[(cd['continentExp'] == 'Oceania')].unique()"
   ]
  },
  {
   "cell_type": "markdown",
   "metadata": {},
   "source": [
    "Cruise ship in Japan"
   ]
  },
  {
   "cell_type": "code",
   "execution_count": 35,
   "metadata": {},
   "outputs": [
    {
     "data": {
      "text/plain": [
       "array(['Cases_on_an_international_conveyance_Japan'], dtype=object)"
      ]
     },
     "execution_count": 35,
     "metadata": {},
     "output_type": "execute_result"
    }
   ],
   "source": [
    "cd.countriesAndTerritories[(cd['continentExp'] == 'Other')].unique()"
   ]
  },
  {
   "cell_type": "code",
   "execution_count": 30,
   "metadata": {
    "scrolled": true
   },
   "outputs": [
    {
     "data": {
      "text/plain": [
       "array(['Andorra', 'Anguilla', 'Antigua_and_Barbuda', 'Bermuda',\n",
       "       'Bonaire, Saint Eustatius and Saba', 'British_Virgin_Islands',\n",
       "       'Cayman_Islands', 'Dominica', 'Falkland_Islands_(Malvinas)',\n",
       "       'Faroe_Islands', 'Gibraltar', 'Greenland', 'Guernsey', 'Holy_See',\n",
       "       'Isle_of_Man', 'Liechtenstein', 'Marshall_Islands', 'Monaco',\n",
       "       'Montserrat', 'Northern_Mariana_Islands', 'Saint_Kitts_and_Nevis',\n",
       "       'San_Marino', 'Seychelles', 'Sint_Maarten',\n",
       "       'Turks_and_Caicos_islands'], dtype=object)"
      ]
     },
     "execution_count": 30,
     "metadata": {},
     "output_type": "execute_result"
    }
   ],
   "source": [
    "cd.countriesAndTerritories[(cd['popData2019'] <= 100000)].unique()"
   ]
  },
  {
   "cell_type": "markdown",
   "metadata": {},
   "source": [
    "1. Find overall count of cases and deaths for United States of America from January 2020 to April 2020."
   ]
  },
  {
   "cell_type": "code",
   "execution_count": 21,
   "metadata": {
    "scrolled": true
   },
   "outputs": [
    {
     "data": {
      "image/png": "[encoded data removed]",
      "text/plain": [
       "<Figure size 432x288 with 1 Axes>"
      ]
     },
     "metadata": {
      "needs_background": "light"
     },
     "output_type": "display_data"
    }
   ],
   "source": [
    "fig1 = plt.figure();\n",
    "ax = fig1.add_subplot(1, 1, 1)\n",
    "ax.plot(cd.cases[(cd['geoId'] == 'US') & (cd['month'] <= 4 )].cumsum(), 'k--', label='Case')\n",
    "ax.plot(cd.deaths[(cd['geoId'] == 'US') & (cd['month'] <= 4 )].cumsum(), 'k', label='Death')\n",
    "ax.legend(loc='best');"
   ]
  },
  {
   "cell_type": "code",
   "execution_count": 37,
   "metadata": {
    "scrolled": true
   },
   "outputs": [
    {
     "data": {
      "text/plain": [
       "<AxesSubplot:xlabel='cases', ylabel='Density'>"
      ]
     },
     "execution_count": 37,
     "metadata": {},
     "output_type": "execute_result"
    },
    {
     "data": {
      "image/png": "[encoded data removed]",
      "text/plain": [
       "<Figure size 432x288 with 1 Axes>"
      ]
     },
     "metadata": {
      "needs_background": "light"
     },
     "output_type": "display_data"
    }
   ],
   "source": [
    "sns.kdeplot(cd.cases[(cd['geoId'] == 'US') & (cd['month'] <= 4 )].cumsum())\n",
    "#sns.kdeplot(cd.deaths[(cd['geoId'] == 'US') & (cd['month'] <= 4 )].cumsum())"
   ]
  },
  {
   "cell_type": "code",
   "execution_count": 36,
   "metadata": {},
   "outputs": [
    {
     "data": {
      "text/plain": [
       "<AxesSubplot:xlabel='deaths', ylabel='Density'>"
      ]
     },
     "execution_count": 36,
     "metadata": {},
     "output_type": "execute_result"
    },
    {
     "data": {
      "image/png": "[encoded data removed]",
      "text/plain": [
       "<Figure size 432x288 with 1 Axes>"
      ]
     },
     "metadata": {
      "needs_background": "light"
     },
     "output_type": "display_data"
    }
   ],
   "source": [
    "sns.kdeplot(cd.deaths[(cd['geoId'] == 'US') & (cd['month'] <= 4 )].cumsum())"
   ]
  },
  {
   "cell_type": "code",
   "execution_count": null,
   "metadata": {},
   "outputs": [],
   "source": []
  }
 ],
 "metadata": {
  "kernelspec": {
   "display_name": "Python 3",
   "language": "python",
   "name": "python3"
  },
  "language_info": {
   "codemirror_mode": {
    "name": "ipython",
    "version": 3
   },
   "file_extension": ".py",
   "mimetype": "text/x-python",
   "name": "python",
   "nbconvert_exporter": "python",
   "pygments_lexer": "ipython3",
   "version": "3.8.5"
  }
 },
 "nbformat": 4,
 "nbformat_minor": 4
}
