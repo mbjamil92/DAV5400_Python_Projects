{
 "cells": [
  {
   "cell_type": "markdown",
   "metadata": {},
   "source": [
    "# Final Project Proposal Draft#1"
   ]
  },
  {
   "cell_type": "markdown",
   "metadata": {},
   "source": [
    "* ### Group Members:"
   ]
  },
  {
   "cell_type": "markdown",
   "metadata": {},
   "source": [
    "1. Shichao Zhou (szhou2@mail.yu.edu)\n",
    "2. Muhammad Bilal Jamil (mjamil@mail.yu.edu)"
   ]
  },
  {
   "cell_type": "markdown",
   "metadata": {},
   "source": [
    "* ### Introduction:"
   ]
  },
  {
   "cell_type": "markdown",
   "metadata": {},
   "source": []
  },
  {
   "cell_type": "markdown",
   "metadata": {},
   "source": [
    "* ### Research Question:"
   ]
  },
  {
   "cell_type": "markdown",
   "metadata": {},
   "source": [
    "1.  Which states in the U.S. suffer the most from the COVID-19? How are the cases of COVID_19 in the U.S. distributed? (CSV from API of COVIDACT NOW), NY\n",
    "2. Which states in the U.S. is vaccinating its citizens the fastest? Which state has the highest number of vaccinated people as of right now? (covidActNow)\n",
    "3. From December 2019 to the present, how do people’s moods about Covid-19 change? (Twitter Api)\n"
   ]
  },
  {
   "cell_type": "markdown",
   "metadata": {},
   "source": [
    "* ### Data To be Used:"
   ]
  },
  {
   "cell_type": "markdown",
   "metadata": {},
   "source": [
    "1. CovidACT NOW (CSV Format) from its web API.\n",
    "\n",
    "2. Access Twitter's data for sentiment analysis using 'Tweepy'. "
   ]
  },
  {
   "cell_type": "markdown",
   "metadata": {},
   "source": [
    "* ### Approach:"
   ]
  },
  {
   "cell_type": "markdown",
   "metadata": {},
   "source": [
    "* ##### 1st Part:\n",
    "    1. First we will use the COVIDAct Now's data for our initial data analysis, we can do EDA, and then we can generate various sorts of graphs for our categorical and numerical data types.\n",
    "    2. For our categorical data we will use bar plots and histograms and for our numeric data we will use scatter plots, line graphs and box plots. \n",
    "    3. We will analyze which states had the highest deaths, cases, hospitalizations and ICU details.\n",
    "    4. We will also analyze which states are vaccinating its people and are on their way to make a safe envrionment for its people on a 'state' level.\n",
    "    \n",
    "    \n",
    "* #### 2nd Part:\n",
    "    1. We will use twitter to do sentiment analysis of people's views, thoughts on COVID-19.\n",
    "    2. We will also make attributes for both positive and negative thoughts/words and also analyze on a geograhic level which country was most tweeting about COVID-19.\n",
    "    3. We will then also analyze were users from U.S were ready for COVID-19 or not."
   ]
  },
  {
   "cell_type": "markdown",
   "metadata": {},
   "source": [
    "* ### References:"
   ]
  },
  {
   "cell_type": "markdown",
   "metadata": {},
   "source": [
    "* "
   ]
  }
 ],
 "metadata": {
  "kernelspec": {
   "display_name": "Python 3",
   "language": "python",
   "name": "python3"
  },
  "language_info": {
   "codemirror_mode": {
    "name": "ipython",
    "version": 3
   },
   "file_extension": ".py",
   "mimetype": "text/x-python",
   "name": "python",
   "nbconvert_exporter": "python",
   "pygments_lexer": "ipython3",
   "version": "3.8.5"
  }
 },
 "nbformat": 4,
 "nbformat_minor": 4
}
