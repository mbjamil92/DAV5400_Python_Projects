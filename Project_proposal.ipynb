{
 "cells": [
  {
   "cell_type": "markdown",
   "metadata": {},
   "source": [
    "# Final Project Proposal Draft#1"
   ]
  },
  {
   "cell_type": "markdown",
   "metadata": {},
   "source": [
    "* ### Group Members:"
   ]
  },
  {
   "cell_type": "markdown",
   "metadata": {},
   "source": [
    "1. Shichao Zhou (szhou2@mail.yu.edu)\n",
    "2. Muhammad Bilal Jamil (mjamil@mail.yu.edu)"
   ]
  },
  {
   "cell_type": "markdown",
   "metadata": {},
   "source": [
    "* ### Introduction:"
   ]
  },
  {
   "cell_type": "markdown",
   "metadata": {},
   "source": []
  },
  {
   "cell_type": "markdown",
   "metadata": {},
   "source": [
    "* ### Research Question:"
   ]
  },
  {
   "cell_type": "markdown",
   "metadata": {},
   "source": [
    "1.  Which states in the U.S. suffer the most from the COVID-19? How are the cases of COVID_19 in the U.S. distributed? (CSV from API of COVIDACT NOW), NY\n",
    "2. Which states in the U.S. is vaccinating its citizens the fastest? Which state has the highest number of vaccinated people as of right now? (covidActNow)\n",
    "3. From December 2019 to the present, how do people’s moods about Covid-19 change? (Twitter Api)\n"
   ]
  },
  {
   "cell_type": "markdown",
   "metadata": {},
   "source": [
    "* ### Data To be Used:"
   ]
  },
  {
   "cell_type": "markdown",
   "metadata": {},
   "source": [
    "1. First data source\n",
    "- The first data source is from CovidACTNOW(https://covidactnow.org/data-api). We registered Covid Act Now API and got API key,that was ff841d55ed3e434b9f79aeb05448f002. The Covid Act Now API provides us with comprehensive COVID data for all US states. The API is available in JSON and CSV Formats. \n",
    "The latest available data:\n",
    "- JSON FORMAT:https://api.covidactnow.org/v2/states.json?apiKey=ff841d55ed3e434b9f79aeb05448f002\n",
    "- CSV FORMAT: https://api.covidactnow.org/v2/counties.csv?apiKey=ff841d55ed3e434b9f79aeb05448f002\n",
    "- Whether to choose JSON or CSV formats will base on our research questions and analysis needs. \n",
    "- (Data is licensed under Creative Commons Attribution-NonCommercial-NoDerivatives 4.0 International.)\n",
    "\n",
    "2. Second data source\n",
    "- The second data source comes from Twitter for getting and analyzing tweets related to people's moods towards Covid-19 data by using 'Tweepy.' "
   ]
  },
  {
   "cell_type": "markdown",
   "metadata": {},
   "source": [
    "* ### Approach:"
   ]
  },
  {
   "cell_type": "markdown",
   "metadata": {},
   "source": [
    "* ##### 1st Part:\n",
    "    1. First, we will use the COVIDAct Now's data for our initial data analysis. EDA analysis: we will extract the dataset from the website and store it on a data frame. We will analyze any missing values in the dataset and consider whether missing values are essential to our research. If not necessary, the missing values will be deleted.  Then we can analyze each attribute by viewing basic statistic descriptions and generate various sorts of graphs for our categorical and numerical data types for further research. \n",
    "    2. For our categorical data, we will use bar plots and histograms, and for our numeric data, we will use scatter plots, line graphs, and box plots. Also, we can build data visualization interfaces by using DASH to make our research more interactive and vivid.\n",
    "    3. We will analyze which states had the highest deaths, cases, hospitalizations, and ICU details.\n",
    "    4. We will also analyze which states are vaccinating their people and are on their way to make a safe environment for their people on a 'state' level.\n",
    "    \n",
    "* #### 2nd Part:\n",
    "    1. We will use twitter to do sentiment analysis of people's views, thoughts on COVID-19.\n",
    "    2. We will also make attributes for both positive and negative thoughts/words and also analyze on a geograhic level which country was most tweeting about COVID-19.\n",
    "    3. We will then also analyze were users from U.S were ready for COVID-19 or not."
   ]
  },
  {
   "cell_type": "markdown",
   "metadata": {},
   "source": [
    "* ### References:"
   ]
  },
  {
   "cell_type": "markdown",
   "metadata": {},
   "source": [
    "https://docs.tweepy.org/en/latest/"
   ]
  },
  {
   "cell_type": "markdown",
   "metadata": {},
   "source": [
    "https://realpython.com/python-dash/\n"
   ]
  },
  {
   "cell_type": "markdown",
   "metadata": {},
   "source": [
    "https://www.ncbi.nlm.nih.gov/pmc/articles/PMC7661106/"
   ]
  },
  {
   "cell_type": "markdown",
   "metadata": {},
   "source": [
    "https://www.youtube.com/watch?v=ujId4ipkBio&t=782s&ab_channel=ComputerScience"
   ]
  },
  {
   "cell_type": "code",
   "execution_count": null,
   "metadata": {},
   "outputs": [],
   "source": []
  }
 ],
 "metadata": {
  "kernelspec": {
   "display_name": "Python 3",
   "language": "python",
   "name": "python3"
  },
  "language_info": {
   "codemirror_mode": {
    "name": "ipython",
    "version": 3
   },
   "file_extension": ".py",
   "mimetype": "text/x-python",
   "name": "python",
   "nbconvert_exporter": "python",
   "pygments_lexer": "ipython3",
   "version": "3.8.5"
  }
 },
 "nbformat": 4,
 "nbformat_minor": 4
}
